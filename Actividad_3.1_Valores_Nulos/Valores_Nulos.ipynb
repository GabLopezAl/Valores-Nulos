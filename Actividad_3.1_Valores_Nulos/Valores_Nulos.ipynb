{
 "cells": [
  {
   "cell_type": "markdown",
   "metadata": {},
   "source": [
    "**Importar librerías**"
   ]
  },
  {
   "cell_type": "code",
   "execution_count": 1,
   "metadata": {},
   "outputs": [],
   "source": [
    "import pandas as pd\n",
    "import numpy as np\n",
    "import matplotlib as mt\n",
    "import seaborn as sns"
   ]
  },
  {
   "cell_type": "markdown",
   "metadata": {},
   "source": [
    "**Leer archivo csv**"
   ]
  },
  {
   "cell_type": "code",
   "execution_count": 2,
   "metadata": {},
   "outputs": [
    {
     "data": {
      "text/html": [
       "<div>\n",
       "<style scoped>\n",
       "    .dataframe tbody tr th:only-of-type {\n",
       "        vertical-align: middle;\n",
       "    }\n",
       "\n",
       "    .dataframe tbody tr th {\n",
       "        vertical-align: top;\n",
       "    }\n",
       "\n",
       "    .dataframe thead th {\n",
       "        text-align: right;\n",
       "    }\n",
       "</style>\n",
       "<table border=\"1\" class=\"dataframe\">\n",
       "  <thead>\n",
       "    <tr style=\"text-align: right;\">\n",
       "      <th></th>\n",
       "      <th>indice_tiempo</th>\n",
       "      <th>ventas_precios_corrientes</th>\n",
       "      <th>ventas_precios_constantes</th>\n",
       "      <th>ventas_totales_canal_venta</th>\n",
       "      <th>salon_ventas</th>\n",
       "      <th>canales_on_line</th>\n",
       "      <th>ventas_totales_medio_pago</th>\n",
       "      <th>efectivo</th>\n",
       "      <th>tarjetas_debito</th>\n",
       "      <th>tarjetas_credito</th>\n",
       "      <th>...</th>\n",
       "      <th>almacen</th>\n",
       "      <th>panaderia</th>\n",
       "      <th>lacteos</th>\n",
       "      <th>carnes</th>\n",
       "      <th>verduleria_fruteria</th>\n",
       "      <th>alimentos_preparados_rotiseria</th>\n",
       "      <th>articulos_limpieza_perfumeria</th>\n",
       "      <th>indumentaria_calzado_textiles_hogar</th>\n",
       "      <th>electronicos_articulos_hogar</th>\n",
       "      <th>otros</th>\n",
       "    </tr>\n",
       "  </thead>\n",
       "  <tbody>\n",
       "    <tr>\n",
       "      <th>0</th>\n",
       "      <td>01/01/2017</td>\n",
       "      <td>27858.9</td>\n",
       "      <td>27477.3</td>\n",
       "      <td>27858872.08</td>\n",
       "      <td>27591730.13</td>\n",
       "      <td>267141.956</td>\n",
       "      <td>27858872.08</td>\n",
       "      <td>1.023010e+07</td>\n",
       "      <td>6864575.384</td>\n",
       "      <td>9047205.493</td>\n",
       "      <td>...</td>\n",
       "      <td>6705475.318</td>\n",
       "      <td>9.459063e+05</td>\n",
       "      <td>2880656.169</td>\n",
       "      <td>2606192.942</td>\n",
       "      <td>1.050314e+06</td>\n",
       "      <td>340777.3882</td>\n",
       "      <td>4397543.671</td>\n",
       "      <td>772371.8476</td>\n",
       "      <td>1838507.096</td>\n",
       "      <td>2806660.309</td>\n",
       "    </tr>\n",
       "    <tr>\n",
       "      <th>1</th>\n",
       "      <td>01/02/2017</td>\n",
       "      <td>25994.2</td>\n",
       "      <td>25223.4</td>\n",
       "      <td>25994200.17</td>\n",
       "      <td>25749179.40</td>\n",
       "      <td>245020.769</td>\n",
       "      <td>25994200.17</td>\n",
       "      <td>9.719067e+06</td>\n",
       "      <td>6438494.011</td>\n",
       "      <td>8309150.301</td>\n",
       "      <td>...</td>\n",
       "      <td>6576624.803</td>\n",
       "      <td>9.256186e+05</td>\n",
       "      <td>2855639.900</td>\n",
       "      <td>2600083.591</td>\n",
       "      <td>1.026167e+06</td>\n",
       "      <td>328288.6951</td>\n",
       "      <td>4053283.771</td>\n",
       "      <td>672290.5165</td>\n",
       "      <td>1257661.903</td>\n",
       "      <td>2354084.901</td>\n",
       "    </tr>\n",
       "    <tr>\n",
       "      <th>2</th>\n",
       "      <td>01/03/2017</td>\n",
       "      <td>27780.0</td>\n",
       "      <td>26334.3</td>\n",
       "      <td>27780006.52</td>\n",
       "      <td>27472228.72</td>\n",
       "      <td>307777.804</td>\n",
       "      <td>27780006.52</td>\n",
       "      <td>1.024444e+07</td>\n",
       "      <td>6908522.962</td>\n",
       "      <td>8845010.494</td>\n",
       "      <td>...</td>\n",
       "      <td>7437264.174</td>\n",
       "      <td>1.016148e+06</td>\n",
       "      <td>3188259.169</td>\n",
       "      <td>2824976.726</td>\n",
       "      <td>1.075526e+06</td>\n",
       "      <td>353335.1548</td>\n",
       "      <td>4354197.611</td>\n",
       "      <td>667696.6653</td>\n",
       "      <td>1305674.917</td>\n",
       "      <td>2266189.277</td>\n",
       "    </tr>\n",
       "    <tr>\n",
       "      <th>3</th>\n",
       "      <td>01/04/2017</td>\n",
       "      <td>29134.3</td>\n",
       "      <td>27045.9</td>\n",
       "      <td>29134272.22</td>\n",
       "      <td>28827479.49</td>\n",
       "      <td>306792.733</td>\n",
       "      <td>29134272.22</td>\n",
       "      <td>1.031263e+07</td>\n",
       "      <td>7454251.800</td>\n",
       "      <td>9458166.682</td>\n",
       "      <td>...</td>\n",
       "      <td>8211244.093</td>\n",
       "      <td>1.132396e+06</td>\n",
       "      <td>3257140.159</td>\n",
       "      <td>3006158.760</td>\n",
       "      <td>1.037213e+06</td>\n",
       "      <td>359694.4537</td>\n",
       "      <td>4355706.646</td>\n",
       "      <td>838948.2458</td>\n",
       "      <td>1535726.345</td>\n",
       "      <td>2146755.887</td>\n",
       "    </tr>\n",
       "    <tr>\n",
       "      <th>4</th>\n",
       "      <td>01/05/2017</td>\n",
       "      <td>27969.0</td>\n",
       "      <td>25631.9</td>\n",
       "      <td>27969004.68</td>\n",
       "      <td>27569311.41</td>\n",
       "      <td>399693.262</td>\n",
       "      <td>27969004.68</td>\n",
       "      <td>1.014761e+07</td>\n",
       "      <td>6735747.319</td>\n",
       "      <td>9220929.862</td>\n",
       "      <td>...</td>\n",
       "      <td>7651058.084</td>\n",
       "      <td>1.033082e+06</td>\n",
       "      <td>3232635.767</td>\n",
       "      <td>2799142.123</td>\n",
       "      <td>9.826512e+05</td>\n",
       "      <td>336568.0085</td>\n",
       "      <td>4206101.605</td>\n",
       "      <td>915895.1498</td>\n",
       "      <td>1824462.036</td>\n",
       "      <td>2117971.483</td>\n",
       "    </tr>\n",
       "  </tbody>\n",
       "</table>\n",
       "<p>5 rows × 24 columns</p>\n",
       "</div>"
      ],
      "text/plain": [
       "  indice_tiempo  ventas_precios_corrientes  ventas_precios_constantes  \\\n",
       "0    01/01/2017                    27858.9                    27477.3   \n",
       "1    01/02/2017                    25994.2                    25223.4   \n",
       "2    01/03/2017                    27780.0                    26334.3   \n",
       "3    01/04/2017                    29134.3                    27045.9   \n",
       "4    01/05/2017                    27969.0                    25631.9   \n",
       "\n",
       "   ventas_totales_canal_venta  salon_ventas  canales_on_line  \\\n",
       "0                 27858872.08   27591730.13       267141.956   \n",
       "1                 25994200.17   25749179.40       245020.769   \n",
       "2                 27780006.52   27472228.72       307777.804   \n",
       "3                 29134272.22   28827479.49       306792.733   \n",
       "4                 27969004.68   27569311.41       399693.262   \n",
       "\n",
       "   ventas_totales_medio_pago      efectivo  tarjetas_debito  tarjetas_credito  \\\n",
       "0                27858872.08  1.023010e+07      6864575.384       9047205.493   \n",
       "1                25994200.17  9.719067e+06      6438494.011       8309150.301   \n",
       "2                27780006.52  1.024444e+07      6908522.962       8845010.494   \n",
       "3                29134272.22  1.031263e+07      7454251.800       9458166.682   \n",
       "4                27969004.68  1.014761e+07      6735747.319       9220929.862   \n",
       "\n",
       "   ...      almacen     panaderia      lacteos       carnes  \\\n",
       "0  ...  6705475.318  9.459063e+05  2880656.169  2606192.942   \n",
       "1  ...  6576624.803  9.256186e+05  2855639.900  2600083.591   \n",
       "2  ...  7437264.174  1.016148e+06  3188259.169  2824976.726   \n",
       "3  ...  8211244.093  1.132396e+06  3257140.159  3006158.760   \n",
       "4  ...  7651058.084  1.033082e+06  3232635.767  2799142.123   \n",
       "\n",
       "   verduleria_fruteria  alimentos_preparados_rotiseria  \\\n",
       "0         1.050314e+06                     340777.3882   \n",
       "1         1.026167e+06                     328288.6951   \n",
       "2         1.075526e+06                     353335.1548   \n",
       "3         1.037213e+06                     359694.4537   \n",
       "4         9.826512e+05                     336568.0085   \n",
       "\n",
       "   articulos_limpieza_perfumeria  indumentaria_calzado_textiles_hogar  \\\n",
       "0                    4397543.671                          772371.8476   \n",
       "1                    4053283.771                          672290.5165   \n",
       "2                    4354197.611                          667696.6653   \n",
       "3                    4355706.646                          838948.2458   \n",
       "4                    4206101.605                          915895.1498   \n",
       "\n",
       "   electronicos_articulos_hogar        otros  \n",
       "0                   1838507.096  2806660.309  \n",
       "1                   1257661.903  2354084.901  \n",
       "2                   1305674.917  2266189.277  \n",
       "3                   1535726.345  2146755.887  \n",
       "4                   1824462.036  2117971.483  \n",
       "\n",
       "[5 rows x 24 columns]"
      ]
     },
     "execution_count": 2,
     "metadata": {},
     "output_type": "execute_result"
    }
   ],
   "source": [
    "df = pd.read_csv(\"Ventas_totales.csv\")\n",
    "df.head()"
   ]
  },
  {
   "cell_type": "markdown",
   "metadata": {},
   "source": [
    "**Identificar valores nulos de cada columna**"
   ]
  },
  {
   "cell_type": "code",
   "execution_count": 4,
   "metadata": {},
   "outputs": [
    {
     "data": {
      "text/plain": [
       "indice_tiempo                           0\n",
       "ventas_precios_corrientes               0\n",
       "ventas_precios_constantes               0\n",
       "ventas_totales_canal_venta              0\n",
       "salon_ventas                            6\n",
       "canales_on_line                         0\n",
       "ventas_totales_medio_pago               0\n",
       "efectivo                                0\n",
       "tarjetas_debito                         1\n",
       "tarjetas_credito                        7\n",
       "otros_medios                            1\n",
       "ventas_totales_grupo_articulos          0\n",
       "subtotal_ventas_alimentos_bebidas      10\n",
       "bebidas                                 1\n",
       "almacen                                 2\n",
       "panaderia                               1\n",
       "lacteos                                 1\n",
       "carnes                                  1\n",
       "verduleria_fruteria                     1\n",
       "alimentos_preparados_rotiseria          1\n",
       "articulos_limpieza_perfumeria           0\n",
       "indumentaria_calzado_textiles_hogar     2\n",
       "electronicos_articulos_hogar            3\n",
       "otros                                   4\n",
       "dtype: int64"
      ]
     },
     "execution_count": 4,
     "metadata": {},
     "output_type": "execute_result"
    }
   ],
   "source": [
    "nulos = df.isnull().sum()\n",
    "nulos"
   ]
  },
  {
   "cell_type": "code",
   "execution_count": 8,
   "metadata": {},
   "outputs": [],
   "source": [
    "# Realizamos la copia del dataframe\n",
    "df2 = df.copy()"
   ]
  },
  {
   "cell_type": "markdown",
   "metadata": {},
   "source": [
    "**Primera sustitucion de valores nulos**"
   ]
  },
  {
   "cell_type": "code",
   "execution_count": 11,
   "metadata": {},
   "outputs": [
    {
     "data": {
      "text/plain": [
       "indice_tiempo                           0\n",
       "ventas_precios_corrientes               0\n",
       "ventas_precios_constantes               0\n",
       "ventas_totales_canal_venta              0\n",
       "salon_ventas                            0\n",
       "canales_on_line                         0\n",
       "ventas_totales_medio_pago               0\n",
       "efectivo                                0\n",
       "tarjetas_debito                         1\n",
       "tarjetas_credito                        7\n",
       "otros_medios                            1\n",
       "ventas_totales_grupo_articulos          0\n",
       "subtotal_ventas_alimentos_bebidas      10\n",
       "bebidas                                 1\n",
       "almacen                                 2\n",
       "panaderia                               1\n",
       "lacteos                                 1\n",
       "carnes                                  1\n",
       "verduleria_fruteria                     1\n",
       "alimentos_preparados_rotiseria          1\n",
       "articulos_limpieza_perfumeria           0\n",
       "indumentaria_calzado_textiles_hogar     2\n",
       "electronicos_articulos_hogar            3\n",
       "otros                                   4\n",
       "dtype: int64"
      ]
     },
     "execution_count": 11,
     "metadata": {},
     "output_type": "execute_result"
    }
   ],
   "source": [
    "# Se usará la media aritmética para sustituir los valores nulos de la columna salon_ventas que tiene 6 valores vacíos\n",
    "# y es una variable numérica\n",
    "df2[\"salon_ventas\"] = df2[\"salon_ventas\"].fillna(round(df2[\"salon_ventas\"].mean(),1))\n",
    "\n",
    "# Corroboramos valores nulos\n",
    "df2.isnull().sum()"
   ]
  },
  {
   "cell_type": "code",
   "execution_count": 10,
   "metadata": {},
   "outputs": [],
   "source": [
    "# Convertimos dataframe a csv\n",
    "df2.to_csv(\"Columna_Salon_Ventas.csv\")"
   ]
  },
  {
   "cell_type": "markdown",
   "metadata": {},
   "source": [
    "**Segunda sutitucion de valores nulos**"
   ]
  },
  {
   "cell_type": "code",
   "execution_count": 16,
   "metadata": {},
   "outputs": [
    {
     "data": {
      "text/plain": [
       "indice_tiempo                           0\n",
       "ventas_precios_corrientes               0\n",
       "ventas_precios_constantes               0\n",
       "ventas_totales_canal_venta              0\n",
       "salon_ventas                            0\n",
       "canales_on_line                         0\n",
       "ventas_totales_medio_pago               0\n",
       "efectivo                                0\n",
       "tarjetas_debito                         0\n",
       "tarjetas_credito                        7\n",
       "otros_medios                            1\n",
       "ventas_totales_grupo_articulos          0\n",
       "subtotal_ventas_alimentos_bebidas      10\n",
       "bebidas                                 1\n",
       "almacen                                 2\n",
       "panaderia                               1\n",
       "lacteos                                 1\n",
       "carnes                                  1\n",
       "verduleria_fruteria                     1\n",
       "alimentos_preparados_rotiseria          1\n",
       "articulos_limpieza_perfumeria           0\n",
       "indumentaria_calzado_textiles_hogar     2\n",
       "electronicos_articulos_hogar            3\n",
       "otros                                   4\n",
       "dtype: int64"
      ]
     },
     "execution_count": 16,
     "metadata": {},
     "output_type": "execute_result"
    }
   ],
   "source": [
    "# Se usará la mediana para sustituir el úníco valor que hace falta en la columna tarjetas_debito\n",
    "df2[\"tarjetas_debito\"] = df2[\"tarjetas_debito\"].fillna(round(df2[\"tarjetas_debito\"].median(),1))\n",
    "\n",
    "# Corroboramos valores nulos\n",
    "df2.isnull().sum()"
   ]
  },
  {
   "cell_type": "code",
   "execution_count": 17,
   "metadata": {},
   "outputs": [],
   "source": [
    "# Convertimos dataframe a csv\n",
    "df2.to_csv(\"Columna_tarjetas_debito.csv\")"
   ]
  },
  {
   "cell_type": "markdown",
   "metadata": {},
   "source": [
    "**Tercera sustitucion de valores nulos**"
   ]
  },
  {
   "cell_type": "code",
   "execution_count": 18,
   "metadata": {},
   "outputs": [
    {
     "data": {
      "text/plain": [
       "indice_tiempo                           0\n",
       "ventas_precios_corrientes               0\n",
       "ventas_precios_constantes               0\n",
       "ventas_totales_canal_venta              0\n",
       "salon_ventas                            0\n",
       "canales_on_line                         0\n",
       "ventas_totales_medio_pago               0\n",
       "efectivo                                0\n",
       "tarjetas_debito                         0\n",
       "tarjetas_credito                        0\n",
       "otros_medios                            1\n",
       "ventas_totales_grupo_articulos          0\n",
       "subtotal_ventas_alimentos_bebidas      10\n",
       "bebidas                                 1\n",
       "almacen                                 2\n",
       "panaderia                               1\n",
       "lacteos                                 1\n",
       "carnes                                  1\n",
       "verduleria_fruteria                     1\n",
       "alimentos_preparados_rotiseria          1\n",
       "articulos_limpieza_perfumeria           0\n",
       "indumentaria_calzado_textiles_hogar     2\n",
       "electronicos_articulos_hogar            3\n",
       "otros                                   4\n",
       "dtype: int64"
      ]
     },
     "execution_count": 18,
     "metadata": {},
     "output_type": "execute_result"
    }
   ],
   "source": [
    "# Se usará un valor en específico para sustituir los valores nulos de la columna tarjeta_credito\n",
    "df2[\"tarjetas_credito\"] = df2[\"tarjetas_credito\"].fillna(5621556.2)\n",
    "\n",
    "# Corroboramos valores nulos\n",
    "df2.isnull().sum()"
   ]
  },
  {
   "cell_type": "code",
   "execution_count": 20,
   "metadata": {},
   "outputs": [],
   "source": [
    "# Convertimos dataframe a csv\n",
    "df2.to_csv(\"Columna_tarjetas_credito.csv\")"
   ]
  },
  {
   "cell_type": "markdown",
   "metadata": {},
   "source": [
    "**Cuarta sustitucion de valores nulos**"
   ]
  },
  {
   "cell_type": "code",
   "execution_count": 21,
   "metadata": {},
   "outputs": [
    {
     "name": "stderr",
     "output_type": "stream",
     "text": [
      "C:\\Users\\DELL\\AppData\\Local\\Temp\\ipykernel_10236\\1905451438.py:2: FutureWarning: Series.fillna with 'method' is deprecated and will raise in a future version. Use obj.ffill() or obj.bfill() instead.\n",
      "  df2[\"otros_medios\"] = df2[\"otros_medios\"].fillna(method = \"ffill\")\n"
     ]
    },
    {
     "data": {
      "text/plain": [
       "indice_tiempo                           0\n",
       "ventas_precios_corrientes               0\n",
       "ventas_precios_constantes               0\n",
       "ventas_totales_canal_venta              0\n",
       "salon_ventas                            0\n",
       "canales_on_line                         0\n",
       "ventas_totales_medio_pago               0\n",
       "efectivo                                0\n",
       "tarjetas_debito                         0\n",
       "tarjetas_credito                        0\n",
       "otros_medios                            0\n",
       "ventas_totales_grupo_articulos          0\n",
       "subtotal_ventas_alimentos_bebidas      10\n",
       "bebidas                                 1\n",
       "almacen                                 2\n",
       "panaderia                               1\n",
       "lacteos                                 1\n",
       "carnes                                  1\n",
       "verduleria_fruteria                     1\n",
       "alimentos_preparados_rotiseria          1\n",
       "articulos_limpieza_perfumeria           0\n",
       "indumentaria_calzado_textiles_hogar     2\n",
       "electronicos_articulos_hogar            3\n",
       "otros                                   4\n",
       "dtype: int64"
      ]
     },
     "execution_count": 21,
     "metadata": {},
     "output_type": "execute_result"
    }
   ],
   "source": [
    "# Se utilizará la sustitucion por valores hacia delante para susituir el único valor nulo de la columna otros_medios\n",
    "df2[\"otros_medios\"] = df2[\"otros_medios\"].fillna(method = \"ffill\")\n",
    "\n",
    "# Corroboramos valores nulos\n",
    "df2.isnull().sum()"
   ]
  },
  {
   "cell_type": "code",
   "execution_count": 22,
   "metadata": {},
   "outputs": [],
   "source": [
    "# Convertimos dataframe a csv\n",
    "df2.to_csv(\"Columna_otros_medios.csv\")"
   ]
  },
  {
   "cell_type": "markdown",
   "metadata": {},
   "source": [
    "**Quinta sustitucion de valores nulos**"
   ]
  },
  {
   "cell_type": "code",
   "execution_count": 23,
   "metadata": {},
   "outputs": [
    {
     "data": {
      "text/plain": [
       "indice_tiempo                          0\n",
       "ventas_precios_corrientes              0\n",
       "ventas_precios_constantes              0\n",
       "ventas_totales_canal_venta             0\n",
       "salon_ventas                           0\n",
       "canales_on_line                        0\n",
       "ventas_totales_medio_pago              0\n",
       "efectivo                               0\n",
       "tarjetas_debito                        0\n",
       "tarjetas_credito                       0\n",
       "otros_medios                           0\n",
       "ventas_totales_grupo_articulos         0\n",
       "subtotal_ventas_alimentos_bebidas      0\n",
       "bebidas                                1\n",
       "almacen                                2\n",
       "panaderia                              1\n",
       "lacteos                                1\n",
       "carnes                                 1\n",
       "verduleria_fruteria                    1\n",
       "alimentos_preparados_rotiseria         1\n",
       "articulos_limpieza_perfumeria          0\n",
       "indumentaria_calzado_textiles_hogar    2\n",
       "electronicos_articulos_hogar           3\n",
       "otros                                  4\n",
       "dtype: int64"
      ]
     },
     "execution_count": 23,
     "metadata": {},
     "output_type": "execute_result"
    }
   ],
   "source": [
    "# Se sustituira por media arimética para los valores nulos de la columna subtotal_ventas_alimentos_bebidas\n",
    "df2[\"subtotal_ventas_alimentos_bebidas\"] = df2[\"subtotal_ventas_alimentos_bebidas\"].fillna(round(df2[\"subtotal_ventas_alimentos_bebidas\"].mean(),1))\n",
    "\n",
    "# Corroboramos valores nulos\n",
    "df2.isnull().sum()"
   ]
  },
  {
   "cell_type": "code",
   "execution_count": 24,
   "metadata": {},
   "outputs": [],
   "source": [
    "# Convertimos el dataframe a csv\n",
    "df2.to_csv(\"Columna_subtotal_ventas_alimentos_bebidas.csv\")"
   ]
  },
  {
   "cell_type": "markdown",
   "metadata": {},
   "source": [
    "**Sexta sustitucion de valores nulos**"
   ]
  },
  {
   "cell_type": "code",
   "execution_count": 25,
   "metadata": {},
   "outputs": [
    {
     "name": "stderr",
     "output_type": "stream",
     "text": [
      "C:\\Users\\DELL\\AppData\\Local\\Temp\\ipykernel_10236\\1900614502.py:2: FutureWarning: Series.fillna with 'method' is deprecated and will raise in a future version. Use obj.ffill() or obj.bfill() instead.\n",
      "  df2[\"bebidas\"] = df2[\"bebidas\"].fillna(method = \"bfill\")\n"
     ]
    },
    {
     "data": {
      "text/plain": [
       "indice_tiempo                          0\n",
       "ventas_precios_corrientes              0\n",
       "ventas_precios_constantes              0\n",
       "ventas_totales_canal_venta             0\n",
       "salon_ventas                           0\n",
       "canales_on_line                        0\n",
       "ventas_totales_medio_pago              0\n",
       "efectivo                               0\n",
       "tarjetas_debito                        0\n",
       "tarjetas_credito                       0\n",
       "otros_medios                           0\n",
       "ventas_totales_grupo_articulos         0\n",
       "subtotal_ventas_alimentos_bebidas      0\n",
       "bebidas                                0\n",
       "almacen                                2\n",
       "panaderia                              1\n",
       "lacteos                                1\n",
       "carnes                                 1\n",
       "verduleria_fruteria                    1\n",
       "alimentos_preparados_rotiseria         1\n",
       "articulos_limpieza_perfumeria          0\n",
       "indumentaria_calzado_textiles_hogar    2\n",
       "electronicos_articulos_hogar           3\n",
       "otros                                  4\n",
       "dtype: int64"
      ]
     },
     "execution_count": 25,
     "metadata": {},
     "output_type": "execute_result"
    }
   ],
   "source": [
    "# Sustituiremos por backward fill para el único valor vacío de la comuna bebidas\n",
    "df2[\"bebidas\"] = df2[\"bebidas\"].fillna(method = \"bfill\")\n",
    "\n",
    "# Corroboramos valores nulos\n",
    "df2.isnull().sum()"
   ]
  },
  {
   "cell_type": "code",
   "execution_count": 26,
   "metadata": {},
   "outputs": [],
   "source": [
    "# Convertimos dataframe a csv\n",
    "df2.to_csv(\"Columna_bebidas.csv\")"
   ]
  },
  {
   "cell_type": "markdown",
   "metadata": {},
   "source": [
    "**Séptima sustitución de valores nulos**"
   ]
  },
  {
   "cell_type": "code",
   "execution_count": 27,
   "metadata": {},
   "outputs": [
    {
     "data": {
      "text/plain": [
       "indice_tiempo                          0\n",
       "ventas_precios_corrientes              0\n",
       "ventas_precios_constantes              0\n",
       "ventas_totales_canal_venta             0\n",
       "salon_ventas                           0\n",
       "canales_on_line                        0\n",
       "ventas_totales_medio_pago              0\n",
       "efectivo                               0\n",
       "tarjetas_debito                        0\n",
       "tarjetas_credito                       0\n",
       "otros_medios                           0\n",
       "ventas_totales_grupo_articulos         0\n",
       "subtotal_ventas_alimentos_bebidas      0\n",
       "bebidas                                0\n",
       "almacen                                0\n",
       "panaderia                              1\n",
       "lacteos                                1\n",
       "carnes                                 1\n",
       "verduleria_fruteria                    1\n",
       "alimentos_preparados_rotiseria         1\n",
       "articulos_limpieza_perfumeria          0\n",
       "indumentaria_calzado_textiles_hogar    2\n",
       "electronicos_articulos_hogar           3\n",
       "otros                                  4\n",
       "dtype: int64"
      ]
     },
     "execution_count": 27,
     "metadata": {},
     "output_type": "execute_result"
    }
   ],
   "source": [
    "# Se sutituyo por un valor en particular para los datos vacíos de la columna almacen\n",
    "df2[\"almacen\"] = df2[\"almacen\"].fillna(23468810.1)\n",
    "\n",
    "df2.isnull().sum()"
   ]
  },
  {
   "cell_type": "code",
   "execution_count": 29,
   "metadata": {},
   "outputs": [],
   "source": [
    "# Convertir dataframe a csv\n",
    "df2.to_csv(\"Columna_almacen.csv\")"
   ]
  },
  {
   "cell_type": "markdown",
   "metadata": {},
   "source": [
    "**Octava sustitución de valores nulos**"
   ]
  },
  {
   "cell_type": "code",
   "execution_count": 31,
   "metadata": {},
   "outputs": [
    {
     "name": "stderr",
     "output_type": "stream",
     "text": [
      "C:\\Users\\DELL\\AppData\\Local\\Temp\\ipykernel_10236\\1218449952.py:2: FutureWarning: Series.fillna with 'method' is deprecated and will raise in a future version. Use obj.ffill() or obj.bfill() instead.\n",
      "  df2[\"panaderia\"] = df2[\"panaderia\"].fillna(method = \"ffill\")\n"
     ]
    },
    {
     "data": {
      "text/plain": [
       "indice_tiempo                          0\n",
       "ventas_precios_corrientes              0\n",
       "ventas_precios_constantes              0\n",
       "ventas_totales_canal_venta             0\n",
       "salon_ventas                           0\n",
       "canales_on_line                        0\n",
       "ventas_totales_medio_pago              0\n",
       "efectivo                               0\n",
       "tarjetas_debito                        0\n",
       "tarjetas_credito                       0\n",
       "otros_medios                           0\n",
       "ventas_totales_grupo_articulos         0\n",
       "subtotal_ventas_alimentos_bebidas      0\n",
       "bebidas                                0\n",
       "almacen                                0\n",
       "panaderia                              0\n",
       "lacteos                                1\n",
       "carnes                                 1\n",
       "verduleria_fruteria                    1\n",
       "alimentos_preparados_rotiseria         1\n",
       "articulos_limpieza_perfumeria          0\n",
       "indumentaria_calzado_textiles_hogar    2\n",
       "electronicos_articulos_hogar           3\n",
       "otros                                  4\n",
       "dtype: int64"
      ]
     },
     "execution_count": 31,
     "metadata": {},
     "output_type": "execute_result"
    }
   ],
   "source": [
    "# Se usará ffill para sustituir los valores hacia el valor delantero que se tenga en la columna panaderia\n",
    "df2[\"panaderia\"] = df2[\"panaderia\"].fillna(method = \"ffill\")\n",
    "\n",
    "# Corroboramos valores nulos\n",
    "df2.isnull().sum()"
   ]
  },
  {
   "cell_type": "code",
   "execution_count": 33,
   "metadata": {},
   "outputs": [],
   "source": [
    "# Convertimos dataframe a csv\n",
    "df2.to_csv(\"Columna_panaderia.csv\")"
   ]
  },
  {
   "cell_type": "markdown",
   "metadata": {},
   "source": [
    "**Novena sustitucion de valores nulos**"
   ]
  },
  {
   "cell_type": "code",
   "execution_count": 34,
   "metadata": {},
   "outputs": [
    {
     "data": {
      "text/plain": [
       "indice_tiempo                          0\n",
       "ventas_precios_corrientes              0\n",
       "ventas_precios_constantes              0\n",
       "ventas_totales_canal_venta             0\n",
       "salon_ventas                           0\n",
       "canales_on_line                        0\n",
       "ventas_totales_medio_pago              0\n",
       "efectivo                               0\n",
       "tarjetas_debito                        0\n",
       "tarjetas_credito                       0\n",
       "otros_medios                           0\n",
       "ventas_totales_grupo_articulos         0\n",
       "subtotal_ventas_alimentos_bebidas      0\n",
       "bebidas                                0\n",
       "almacen                                0\n",
       "panaderia                              0\n",
       "lacteos                                0\n",
       "carnes                                 1\n",
       "verduleria_fruteria                    1\n",
       "alimentos_preparados_rotiseria         1\n",
       "articulos_limpieza_perfumeria          0\n",
       "indumentaria_calzado_textiles_hogar    2\n",
       "electronicos_articulos_hogar           3\n",
       "otros                                  4\n",
       "dtype: int64"
      ]
     },
     "execution_count": 34,
     "metadata": {},
     "output_type": "execute_result"
    }
   ],
   "source": [
    "# Se usara la mediana para sustituir los valores nulos de la columna lacteos\n",
    "df2[\"lacteos\"] = df2[\"lacteos\"].fillna(round(df2[\"lacteos\"].median(),1))\n",
    "\n",
    "#Corroboramos valores nulos\n",
    "df2.isnull().sum()"
   ]
  },
  {
   "cell_type": "code",
   "execution_count": 35,
   "metadata": {},
   "outputs": [],
   "source": [
    "# convertir dataframe a csv\n",
    "df2.to_csv(\"Columna_lacteos.csv\")"
   ]
  },
  {
   "cell_type": "markdown",
   "metadata": {},
   "source": [
    "**Décima sustitucion de valores nulos**"
   ]
  },
  {
   "cell_type": "code",
   "execution_count": 36,
   "metadata": {},
   "outputs": [
    {
     "name": "stderr",
     "output_type": "stream",
     "text": [
      "C:\\Users\\DELL\\AppData\\Local\\Temp\\ipykernel_10236\\3430628849.py:2: FutureWarning: Series.fillna with 'method' is deprecated and will raise in a future version. Use obj.ffill() or obj.bfill() instead.\n",
      "  df2[\"carnes\"] = df2[\"carnes\"].fillna(method = \"bfill\")\n"
     ]
    },
    {
     "data": {
      "text/plain": [
       "indice_tiempo                          0\n",
       "ventas_precios_corrientes              0\n",
       "ventas_precios_constantes              0\n",
       "ventas_totales_canal_venta             0\n",
       "salon_ventas                           0\n",
       "canales_on_line                        0\n",
       "ventas_totales_medio_pago              0\n",
       "efectivo                               0\n",
       "tarjetas_debito                        0\n",
       "tarjetas_credito                       0\n",
       "otros_medios                           0\n",
       "ventas_totales_grupo_articulos         0\n",
       "subtotal_ventas_alimentos_bebidas      0\n",
       "bebidas                                0\n",
       "almacen                                0\n",
       "panaderia                              0\n",
       "lacteos                                0\n",
       "carnes                                 0\n",
       "verduleria_fruteria                    1\n",
       "alimentos_preparados_rotiseria         1\n",
       "articulos_limpieza_perfumeria          0\n",
       "indumentaria_calzado_textiles_hogar    2\n",
       "electronicos_articulos_hogar           3\n",
       "otros                                  4\n",
       "dtype: int64"
      ]
     },
     "execution_count": 36,
     "metadata": {},
     "output_type": "execute_result"
    }
   ],
   "source": [
    "# Se usará backward fill para sustituir los valores vacios de la columna carnes\n",
    "df2[\"carnes\"] = df2[\"carnes\"].fillna(method = \"bfill\")\n",
    "\n",
    "# Corroboramos los valores nulos\n",
    "df2.isnull().sum()"
   ]
  },
  {
   "cell_type": "code",
   "execution_count": 37,
   "metadata": {},
   "outputs": [],
   "source": [
    "# Convertir dataframe a csv\n",
    "df2.to_csv(\"Columna_carnes.csv\")"
   ]
  },
  {
   "cell_type": "markdown",
   "metadata": {},
   "source": [
    "**Onceava sustitucion de valores nulos**"
   ]
  },
  {
   "cell_type": "code",
   "execution_count": 39,
   "metadata": {},
   "outputs": [
    {
     "data": {
      "text/plain": [
       "indice_tiempo                          0\n",
       "ventas_precios_corrientes              0\n",
       "ventas_precios_constantes              0\n",
       "ventas_totales_canal_venta             0\n",
       "salon_ventas                           0\n",
       "canales_on_line                        0\n",
       "ventas_totales_medio_pago              0\n",
       "efectivo                               0\n",
       "tarjetas_debito                        0\n",
       "tarjetas_credito                       0\n",
       "otros_medios                           0\n",
       "ventas_totales_grupo_articulos         0\n",
       "subtotal_ventas_alimentos_bebidas      0\n",
       "bebidas                                0\n",
       "almacen                                0\n",
       "panaderia                              0\n",
       "lacteos                                0\n",
       "carnes                                 0\n",
       "verduleria_fruteria                    0\n",
       "alimentos_preparados_rotiseria         1\n",
       "articulos_limpieza_perfumeria          0\n",
       "indumentaria_calzado_textiles_hogar    2\n",
       "electronicos_articulos_hogar           3\n",
       "otros                                  4\n",
       "dtype: int64"
      ]
     },
     "execution_count": 39,
     "metadata": {},
     "output_type": "execute_result"
    }
   ],
   "source": [
    "# Se sustituira por media aritmética para los valores vacios de la columna verduleria_fruteria\n",
    "df2[\"verduleria_fruteria\"] = df2[\"verduleria_fruteria\"].fillna(round(df2[\"verduleria_fruteria\"].mean(),1))\n",
    "\n",
    "# Corroboramos valores nulos\n",
    "df2.isnull().sum()"
   ]
  },
  {
   "cell_type": "code",
   "execution_count": 40,
   "metadata": {},
   "outputs": [],
   "source": [
    "# convertir dataframe a csv\n",
    "df2.to_csv(\"Columna_verduleria_fruteria.csv\")"
   ]
  },
  {
   "cell_type": "markdown",
   "metadata": {},
   "source": [
    "**Doceava manera de sustituir valores nulos**"
   ]
  },
  {
   "cell_type": "code",
   "execution_count": 41,
   "metadata": {},
   "outputs": [
    {
     "data": {
      "text/plain": [
       "indice_tiempo                          0\n",
       "ventas_precios_corrientes              0\n",
       "ventas_precios_constantes              0\n",
       "ventas_totales_canal_venta             0\n",
       "salon_ventas                           0\n",
       "canales_on_line                        0\n",
       "ventas_totales_medio_pago              0\n",
       "efectivo                               0\n",
       "tarjetas_debito                        0\n",
       "tarjetas_credito                       0\n",
       "otros_medios                           0\n",
       "ventas_totales_grupo_articulos         0\n",
       "subtotal_ventas_alimentos_bebidas      0\n",
       "bebidas                                0\n",
       "almacen                                0\n",
       "panaderia                              0\n",
       "lacteos                                0\n",
       "carnes                                 0\n",
       "verduleria_fruteria                    0\n",
       "alimentos_preparados_rotiseria         0\n",
       "articulos_limpieza_perfumeria          0\n",
       "indumentaria_calzado_textiles_hogar    2\n",
       "electronicos_articulos_hogar           3\n",
       "otros                                  4\n",
       "dtype: int64"
      ]
     },
     "execution_count": 41,
     "metadata": {},
     "output_type": "execute_result"
    }
   ],
   "source": [
    "# Se utilizará un valor fijo para sustituir los valores nulos de la columna alimentos_preparados_rosticeria\n",
    "df2[\"alimentos_preparados_rotiseria\"] = df2[\"alimentos_preparados_rotiseria\"].fillna(421356.8)\n",
    "\n",
    "# Corroborar valores nulos\n",
    "df2.isnull().sum()"
   ]
  },
  {
   "cell_type": "code",
   "execution_count": 42,
   "metadata": {},
   "outputs": [],
   "source": [
    "# Convertir dataframe a csv\n",
    "df2.to_csv(\"Columna_alimentos_preparados_rostiseria.csv\")"
   ]
  },
  {
   "cell_type": "markdown",
   "metadata": {},
   "source": [
    "**Forma numero 13 de sustituir valores nulos**"
   ]
  },
  {
   "cell_type": "code",
   "execution_count": 44,
   "metadata": {},
   "outputs": [
    {
     "name": "stderr",
     "output_type": "stream",
     "text": [
      "C:\\Users\\DELL\\AppData\\Local\\Temp\\ipykernel_10236\\3994833536.py:2: FutureWarning: Series.fillna with 'method' is deprecated and will raise in a future version. Use obj.ffill() or obj.bfill() instead.\n",
      "  df2[\"indumentaria_calzado_textiles_hogar\"] = df2[\"indumentaria_calzado_textiles_hogar\"].fillna(method = \"ffill\")\n"
     ]
    },
    {
     "data": {
      "text/plain": [
       "indice_tiempo                          0\n",
       "ventas_precios_corrientes              0\n",
       "ventas_precios_constantes              0\n",
       "ventas_totales_canal_venta             0\n",
       "salon_ventas                           0\n",
       "canales_on_line                        0\n",
       "ventas_totales_medio_pago              0\n",
       "efectivo                               0\n",
       "tarjetas_debito                        0\n",
       "tarjetas_credito                       0\n",
       "otros_medios                           0\n",
       "ventas_totales_grupo_articulos         0\n",
       "subtotal_ventas_alimentos_bebidas      0\n",
       "bebidas                                0\n",
       "almacen                                0\n",
       "panaderia                              0\n",
       "lacteos                                0\n",
       "carnes                                 0\n",
       "verduleria_fruteria                    0\n",
       "alimentos_preparados_rotiseria         0\n",
       "articulos_limpieza_perfumeria          0\n",
       "indumentaria_calzado_textiles_hogar    0\n",
       "electronicos_articulos_hogar           3\n",
       "otros                                  4\n",
       "dtype: int64"
      ]
     },
     "execution_count": 44,
     "metadata": {},
     "output_type": "execute_result"
    }
   ],
   "source": [
    "# Se usó ffill para susituir los valores vacíos de la columna indumentaria_calzado_textiles_hogar\n",
    "df2[\"indumentaria_calzado_textiles_hogar\"] = df2[\"indumentaria_calzado_textiles_hogar\"].fillna(method = \"ffill\")\n",
    "\n",
    "# Corroborar valores vacíos\n",
    "df2.isnull().sum()"
   ]
  },
  {
   "cell_type": "code",
   "execution_count": 45,
   "metadata": {},
   "outputs": [],
   "source": [
    "# Convertir dataframe a csv\n",
    "df2.to_csv(\"Columna_indumentaria_calzado_textibles_hogar.csv\")"
   ]
  },
  {
   "cell_type": "markdown",
   "metadata": {},
   "source": [
    "**Forma número 14 de sustituir valores nulos**"
   ]
  },
  {
   "cell_type": "code",
   "execution_count": 47,
   "metadata": {},
   "outputs": [
    {
     "data": {
      "text/plain": [
       "indice_tiempo                          0\n",
       "ventas_precios_corrientes              0\n",
       "ventas_precios_constantes              0\n",
       "ventas_totales_canal_venta             0\n",
       "salon_ventas                           0\n",
       "canales_on_line                        0\n",
       "ventas_totales_medio_pago              0\n",
       "efectivo                               0\n",
       "tarjetas_debito                        0\n",
       "tarjetas_credito                       0\n",
       "otros_medios                           0\n",
       "ventas_totales_grupo_articulos         0\n",
       "subtotal_ventas_alimentos_bebidas      0\n",
       "bebidas                                0\n",
       "almacen                                0\n",
       "panaderia                              0\n",
       "lacteos                                0\n",
       "carnes                                 0\n",
       "verduleria_fruteria                    0\n",
       "alimentos_preparados_rotiseria         0\n",
       "articulos_limpieza_perfumeria          0\n",
       "indumentaria_calzado_textiles_hogar    0\n",
       "electronicos_articulos_hogar           0\n",
       "otros                                  4\n",
       "dtype: int64"
      ]
     },
     "execution_count": 47,
     "metadata": {},
     "output_type": "execute_result"
    }
   ],
   "source": [
    "# Se utilizó la media aritmética para sustituir los valores de la columna electronicos_articulos_hogar\n",
    "df2[\"electronicos_articulos_hogar\"] = df2[\"electronicos_articulos_hogar\"].fillna(round(df2[\"electronicos_articulos_hogar\"].mean(),1))\n",
    "\n",
    "# Corroboramos valores nulos\n",
    "df2.isnull().sum()"
   ]
  },
  {
   "cell_type": "code",
   "execution_count": 48,
   "metadata": {},
   "outputs": [],
   "source": [
    "# Convertir dataframe a csv\n",
    "df2.to_csv(\"Columna_electronicos_articulos_hogar.csv\")"
   ]
  },
  {
   "cell_type": "markdown",
   "metadata": {},
   "source": [
    "**Forma número 15 de sustituir valores nulos**"
   ]
  },
  {
   "cell_type": "code",
   "execution_count": 49,
   "metadata": {},
   "outputs": [
    {
     "name": "stderr",
     "output_type": "stream",
     "text": [
      "C:\\Users\\DELL\\AppData\\Local\\Temp\\ipykernel_10236\\2951335175.py:2: FutureWarning: Series.fillna with 'method' is deprecated and will raise in a future version. Use obj.ffill() or obj.bfill() instead.\n",
      "  df2[\"otros\"] = df2[\"otros\"].fillna(method = \"bfill\")\n"
     ]
    },
    {
     "data": {
      "text/plain": [
       "indice_tiempo                          0\n",
       "ventas_precios_corrientes              0\n",
       "ventas_precios_constantes              0\n",
       "ventas_totales_canal_venta             0\n",
       "salon_ventas                           0\n",
       "canales_on_line                        0\n",
       "ventas_totales_medio_pago              0\n",
       "efectivo                               0\n",
       "tarjetas_debito                        0\n",
       "tarjetas_credito                       0\n",
       "otros_medios                           0\n",
       "ventas_totales_grupo_articulos         0\n",
       "subtotal_ventas_alimentos_bebidas      0\n",
       "bebidas                                0\n",
       "almacen                                0\n",
       "panaderia                              0\n",
       "lacteos                                0\n",
       "carnes                                 0\n",
       "verduleria_fruteria                    0\n",
       "alimentos_preparados_rotiseria         0\n",
       "articulos_limpieza_perfumeria          0\n",
       "indumentaria_calzado_textiles_hogar    0\n",
       "electronicos_articulos_hogar           0\n",
       "otros                                  0\n",
       "dtype: int64"
      ]
     },
     "execution_count": 49,
     "metadata": {},
     "output_type": "execute_result"
    }
   ],
   "source": [
    "# Sustituir usando backward fill para valores nulos de la columna otros\n",
    "df2[\"otros\"] = df2[\"otros\"].fillna(method = \"bfill\")\n",
    "\n",
    "# Corroboramos valores nulos\n",
    "df2.isnull().sum()"
   ]
  },
  {
   "cell_type": "code",
   "execution_count": 51,
   "metadata": {},
   "outputs": [],
   "source": [
    "# Convertir dataframe a csv\n",
    "df2.to_csv(\"Columna_otros.csv\")"
   ]
  }
 ],
 "metadata": {
  "kernelspec": {
   "display_name": "Python 3",
   "language": "python",
   "name": "python3"
  },
  "language_info": {
   "codemirror_mode": {
    "name": "ipython",
    "version": 3
   },
   "file_extension": ".py",
   "mimetype": "text/x-python",
   "name": "python",
   "nbconvert_exporter": "python",
   "pygments_lexer": "ipython3",
   "version": "3.11.4"
  }
 },
 "nbformat": 4,
 "nbformat_minor": 2
}
