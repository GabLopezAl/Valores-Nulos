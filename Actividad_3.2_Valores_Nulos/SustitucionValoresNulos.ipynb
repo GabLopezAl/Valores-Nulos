{
 "cells": [
  {
   "cell_type": "markdown",
   "metadata": {},
   "source": [
    "**Importar librerías**"
   ]
  },
  {
   "cell_type": "code",
   "execution_count": 1,
   "metadata": {},
   "outputs": [],
   "source": [
    "import pandas as pd\n",
    "import numpy as np\n",
    "import matplotlib as mt\n",
    "import seaborn as sns"
   ]
  },
  {
   "cell_type": "markdown",
   "metadata": {},
   "source": [
    "**Leer archivo csv**"
   ]
  },
  {
   "cell_type": "code",
   "execution_count": 3,
   "metadata": {},
   "outputs": [
    {
     "data": {
      "text/html": [
       "<div>\n",
       "<style scoped>\n",
       "    .dataframe tbody tr th:only-of-type {\n",
       "        vertical-align: middle;\n",
       "    }\n",
       "\n",
       "    .dataframe tbody tr th {\n",
       "        vertical-align: top;\n",
       "    }\n",
       "\n",
       "    .dataframe thead th {\n",
       "        text-align: right;\n",
       "    }\n",
       "</style>\n",
       "<table border=\"1\" class=\"dataframe\">\n",
       "  <thead>\n",
       "    <tr style=\"text-align: right;\">\n",
       "      <th></th>\n",
       "      <th>id</th>\n",
       "      <th>last_scraped</th>\n",
       "      <th>name</th>\n",
       "      <th>description</th>\n",
       "      <th>neighborhood_overview</th>\n",
       "      <th>picture_url</th>\n",
       "      <th>host_name</th>\n",
       "      <th>host_since</th>\n",
       "      <th>host_about</th>\n",
       "      <th>host_response_time</th>\n",
       "      <th>...</th>\n",
       "      <th>review_scores_rating</th>\n",
       "      <th>review_scores_accuracy</th>\n",
       "      <th>review_scores_cleanliness</th>\n",
       "      <th>review_scores_checkin</th>\n",
       "      <th>review_scores_communication</th>\n",
       "      <th>review_scores_location</th>\n",
       "      <th>review_scores_value</th>\n",
       "      <th>license</th>\n",
       "      <th>instant_bookable</th>\n",
       "      <th>reviews_per_month</th>\n",
       "    </tr>\n",
       "  </thead>\n",
       "  <tbody>\n",
       "    <tr>\n",
       "      <th>0</th>\n",
       "      <td>5.704900e+04</td>\n",
       "      <td>18/09/2024</td>\n",
       "      <td>130 sqm with a view on Mauer Park</td>\n",
       "      <td>An apartment of 130 sqm right in the heart of ...</td>\n",
       "      <td>Prenzlauer Berg is no doubt one of the most my...</td>\n",
       "      <td>https://a0.muscache.com/pictures/miso/Hosting-...</td>\n",
       "      <td>Marine</td>\n",
       "      <td>14/11/2009</td>\n",
       "      <td>I'm french but I have been living in Berlin si...</td>\n",
       "      <td>within an hour</td>\n",
       "      <td>...</td>\n",
       "      <td>4.93</td>\n",
       "      <td>4.95</td>\n",
       "      <td>4.90</td>\n",
       "      <td>4.97</td>\n",
       "      <td>4.94</td>\n",
       "      <td>4.82</td>\n",
       "      <td>4.76</td>\n",
       "      <td>03/Z/RA/003544-18</td>\n",
       "      <td>f</td>\n",
       "      <td>0.80</td>\n",
       "    </tr>\n",
       "    <tr>\n",
       "      <th>1</th>\n",
       "      <td>5.878000e+04</td>\n",
       "      <td>18/09/2024</td>\n",
       "      <td>light quiet beautiful 4 room flat</td>\n",
       "      <td>We offer our 4 room apartment in Prenzlauer Be...</td>\n",
       "      <td>NaN</td>\n",
       "      <td>https://a0.muscache.com/pictures/caa048ba-e297...</td>\n",
       "      <td>Katja</td>\n",
       "      <td>08/11/2010</td>\n",
       "      <td>Designer who likes discovering the world</td>\n",
       "      <td>within a few hours</td>\n",
       "      <td>...</td>\n",
       "      <td>4.84</td>\n",
       "      <td>4.88</td>\n",
       "      <td>4.79</td>\n",
       "      <td>4.81</td>\n",
       "      <td>4.91</td>\n",
       "      <td>4.87</td>\n",
       "      <td>4.73</td>\n",
       "      <td>03/Z/RA/007133-22</td>\n",
       "      <td>f</td>\n",
       "      <td>0.43</td>\n",
       "    </tr>\n",
       "    <tr>\n",
       "      <th>2</th>\n",
       "      <td>6.261300e+04</td>\n",
       "      <td>18/09/2024</td>\n",
       "      <td>Super Apartment in Berlin/Kreuzberg</td>\n",
       "      <td>Our fantastic typical Berlin-style apartment i...</td>\n",
       "      <td>NaN</td>\n",
       "      <td>https://a0.muscache.com/pictures/176e2964-5ead...</td>\n",
       "      <td>Guidi</td>\n",
       "      <td>08/09/2010</td>\n",
       "      <td>Hi , I am Elena and I am looking forward to ho...</td>\n",
       "      <td>within a few hours</td>\n",
       "      <td>...</td>\n",
       "      <td>4.70</td>\n",
       "      <td>4.68</td>\n",
       "      <td>4.65</td>\n",
       "      <td>4.82</td>\n",
       "      <td>4.82</td>\n",
       "      <td>4.94</td>\n",
       "      <td>4.47</td>\n",
       "      <td>02/Z/AZ/011099-19</td>\n",
       "      <td>f</td>\n",
       "      <td>0.20</td>\n",
       "    </tr>\n",
       "    <tr>\n",
       "      <th>3</th>\n",
       "      <td>6.401400e+04</td>\n",
       "      <td>18/09/2024</td>\n",
       "      <td>Rooftop apt w/ a view, 2 bedrooms/bathrooms, s...</td>\n",
       "      <td>I am renting out my spacious, bright rooftop a...</td>\n",
       "      <td>Kastanienalle, Oderberger Strasse, Hackescher ...</td>\n",
       "      <td>https://a0.muscache.com/pictures/1135114/9db3c...</td>\n",
       "      <td>Stephan</td>\n",
       "      <td>08/12/2010</td>\n",
       "      <td>Ich mag sch√∂ne Dinge und Design. Wenn es euch...</td>\n",
       "      <td>within a day</td>\n",
       "      <td>...</td>\n",
       "      <td>4.75</td>\n",
       "      <td>4.63</td>\n",
       "      <td>4.50</td>\n",
       "      <td>4.94</td>\n",
       "      <td>4.63</td>\n",
       "      <td>4.88</td>\n",
       "      <td>4.40</td>\n",
       "      <td>01/Z/RA/016060-23</td>\n",
       "      <td>f</td>\n",
       "      <td>0.10</td>\n",
       "    </tr>\n",
       "    <tr>\n",
       "      <th>4</th>\n",
       "      <td>6.424500e+04</td>\n",
       "      <td>18/09/2024</td>\n",
       "      <td>Room w/ balcony and private bathroom in nice area</td>\n",
       "      <td>I¬¥m offering a guest room with balcony in my ...</td>\n",
       "      <td>The neighborhood \"Prenzlauer Berg\" is centrall...</td>\n",
       "      <td>https://a0.muscache.com/pictures/miso/Hosting-...</td>\n",
       "      <td>Christian</td>\n",
       "      <td>07/12/2010</td>\n",
       "      <td>Christian from Berlin\\n\\nHi, I¬¥m a 52 years o...</td>\n",
       "      <td>within a few hours</td>\n",
       "      <td>...</td>\n",
       "      <td>4.95</td>\n",
       "      <td>4.95</td>\n",
       "      <td>4.92</td>\n",
       "      <td>4.95</td>\n",
       "      <td>4.92</td>\n",
       "      <td>4.84</td>\n",
       "      <td>4.77</td>\n",
       "      <td>03/Z/AZ/006799-21</td>\n",
       "      <td>f</td>\n",
       "      <td>0.73</td>\n",
       "    </tr>\n",
       "    <tr>\n",
       "      <th>...</th>\n",
       "      <td>...</td>\n",
       "      <td>...</td>\n",
       "      <td>...</td>\n",
       "      <td>...</td>\n",
       "      <td>...</td>\n",
       "      <td>...</td>\n",
       "      <td>...</td>\n",
       "      <td>...</td>\n",
       "      <td>...</td>\n",
       "      <td>...</td>\n",
       "      <td>...</td>\n",
       "      <td>...</td>\n",
       "      <td>...</td>\n",
       "      <td>...</td>\n",
       "      <td>...</td>\n",
       "      <td>...</td>\n",
       "      <td>...</td>\n",
       "      <td>...</td>\n",
       "      <td>...</td>\n",
       "      <td>...</td>\n",
       "      <td>...</td>\n",
       "    </tr>\n",
       "    <tr>\n",
       "      <th>11522</th>\n",
       "      <td>1.020000e+18</td>\n",
       "      <td>18/09/2024</td>\n",
       "      <td>Studio 40</td>\n",
       "      <td>This modern flat is located in the new Carlott...</td>\n",
       "      <td>Charlottenburg in the western part of Berlin, ...</td>\n",
       "      <td>https://a0.muscache.com/pictures/miso/Hosting-...</td>\n",
       "      <td>Carlotta Apartments</td>\n",
       "      <td>24/10/2023</td>\n",
       "      <td>NaN</td>\n",
       "      <td>within an hour</td>\n",
       "      <td>...</td>\n",
       "      <td>5.00</td>\n",
       "      <td>5.00</td>\n",
       "      <td>4.91</td>\n",
       "      <td>4.82</td>\n",
       "      <td>5.00</td>\n",
       "      <td>5.00</td>\n",
       "      <td>4.45</td>\n",
       "      <td>Legal entity name and Legal form: Godebo GmbH ...</td>\n",
       "      <td>t</td>\n",
       "      <td>1.21</td>\n",
       "    </tr>\n",
       "    <tr>\n",
       "      <th>11523</th>\n",
       "      <td>1.020000e+18</td>\n",
       "      <td>18/09/2024</td>\n",
       "      <td>Garden Loft 80</td>\n",
       "      <td>This modern apartment is located in the new Ca...</td>\n",
       "      <td>Charlottenburg in the western part of Berlin, ...</td>\n",
       "      <td>https://a0.muscache.com/pictures/miso/Hosting-...</td>\n",
       "      <td>Carlotta Apartments</td>\n",
       "      <td>24/10/2023</td>\n",
       "      <td>NaN</td>\n",
       "      <td>within an hour</td>\n",
       "      <td>...</td>\n",
       "      <td>4.83</td>\n",
       "      <td>5.00</td>\n",
       "      <td>5.00</td>\n",
       "      <td>4.83</td>\n",
       "      <td>5.00</td>\n",
       "      <td>4.83</td>\n",
       "      <td>4.67</td>\n",
       "      <td>Legal entity name and Legal form: Godebo GmbH ...</td>\n",
       "      <td>t</td>\n",
       "      <td>0.65</td>\n",
       "    </tr>\n",
       "    <tr>\n",
       "      <th>11524</th>\n",
       "      <td>1.020000e+18</td>\n",
       "      <td>18/09/2024</td>\n",
       "      <td>Extended Garden Loft 107</td>\n",
       "      <td>This modern flat is located in the new Carlott...</td>\n",
       "      <td>Charlottenburg in the western part of Berlin, ...</td>\n",
       "      <td>https://a0.muscache.com/pictures/miso/Hosting-...</td>\n",
       "      <td>Carlotta Apartments</td>\n",
       "      <td>24/10/2023</td>\n",
       "      <td>NaN</td>\n",
       "      <td>within an hour</td>\n",
       "      <td>...</td>\n",
       "      <td>5.00</td>\n",
       "      <td>5.00</td>\n",
       "      <td>5.00</td>\n",
       "      <td>5.00</td>\n",
       "      <td>5.00</td>\n",
       "      <td>4.83</td>\n",
       "      <td>4.50</td>\n",
       "      <td>Legal entity name and Legal form: Godebo GmbH ...</td>\n",
       "      <td>t</td>\n",
       "      <td>1.84</td>\n",
       "    </tr>\n",
       "    <tr>\n",
       "      <th>11525</th>\n",
       "      <td>1.020000e+18</td>\n",
       "      <td>18/09/2024</td>\n",
       "      <td>Garden Loft 115</td>\n",
       "      <td>This modern apartment is located in the new Ca...</td>\n",
       "      <td>Charlottenburg in the western part of Berlin, ...</td>\n",
       "      <td>https://a0.muscache.com/pictures/miso/Hosting-...</td>\n",
       "      <td>Carlotta Apartments</td>\n",
       "      <td>24/10/2023</td>\n",
       "      <td>NaN</td>\n",
       "      <td>within an hour</td>\n",
       "      <td>...</td>\n",
       "      <td>4.67</td>\n",
       "      <td>4.67</td>\n",
       "      <td>5.00</td>\n",
       "      <td>5.00</td>\n",
       "      <td>5.00</td>\n",
       "      <td>4.33</td>\n",
       "      <td>4.33</td>\n",
       "      <td>Legal entity name and Legal form: Godebo GmbH ...</td>\n",
       "      <td>t</td>\n",
       "      <td>0.94</td>\n",
       "    </tr>\n",
       "    <tr>\n",
       "      <th>11526</th>\n",
       "      <td>1.020000e+18</td>\n",
       "      <td>18/09/2024</td>\n",
       "      <td>Extended Garden Loft 139</td>\n",
       "      <td>This modern flat is located in the new Carlott...</td>\n",
       "      <td>Charlottenburg in the western part of Berlin, ...</td>\n",
       "      <td>https://a0.muscache.com/pictures/miso/Hosting-...</td>\n",
       "      <td>Carlotta Apartments</td>\n",
       "      <td>24/10/2023</td>\n",
       "      <td>NaN</td>\n",
       "      <td>within an hour</td>\n",
       "      <td>...</td>\n",
       "      <td>4.97</td>\n",
       "      <td>4.97</td>\n",
       "      <td>5.00</td>\n",
       "      <td>4.94</td>\n",
       "      <td>4.97</td>\n",
       "      <td>4.85</td>\n",
       "      <td>4.85</td>\n",
       "      <td>Legal entity name and Legal form: Godebo GmbH ...</td>\n",
       "      <td>t</td>\n",
       "      <td>3.69</td>\n",
       "    </tr>\n",
       "  </tbody>\n",
       "</table>\n",
       "<p>11527 rows × 50 columns</p>\n",
       "</div>"
      ],
      "text/plain": [
       "                 id last_scraped  \\\n",
       "0      5.704900e+04   18/09/2024   \n",
       "1      5.878000e+04   18/09/2024   \n",
       "2      6.261300e+04   18/09/2024   \n",
       "3      6.401400e+04   18/09/2024   \n",
       "4      6.424500e+04   18/09/2024   \n",
       "...             ...          ...   \n",
       "11522  1.020000e+18   18/09/2024   \n",
       "11523  1.020000e+18   18/09/2024   \n",
       "11524  1.020000e+18   18/09/2024   \n",
       "11525  1.020000e+18   18/09/2024   \n",
       "11526  1.020000e+18   18/09/2024   \n",
       "\n",
       "                                                    name  \\\n",
       "0                      130 sqm with a view on Mauer Park   \n",
       "1                      light quiet beautiful 4 room flat   \n",
       "2                    Super Apartment in Berlin/Kreuzberg   \n",
       "3      Rooftop apt w/ a view, 2 bedrooms/bathrooms, s...   \n",
       "4      Room w/ balcony and private bathroom in nice area   \n",
       "...                                                  ...   \n",
       "11522                                          Studio 40   \n",
       "11523                                     Garden Loft 80   \n",
       "11524                           Extended Garden Loft 107   \n",
       "11525                                    Garden Loft 115   \n",
       "11526                           Extended Garden Loft 139   \n",
       "\n",
       "                                             description  \\\n",
       "0      An apartment of 130 sqm right in the heart of ...   \n",
       "1      We offer our 4 room apartment in Prenzlauer Be...   \n",
       "2      Our fantastic typical Berlin-style apartment i...   \n",
       "3      I am renting out my spacious, bright rooftop a...   \n",
       "4      I¬¥m offering a guest room with balcony in my ...   \n",
       "...                                                  ...   \n",
       "11522  This modern flat is located in the new Carlott...   \n",
       "11523  This modern apartment is located in the new Ca...   \n",
       "11524  This modern flat is located in the new Carlott...   \n",
       "11525  This modern apartment is located in the new Ca...   \n",
       "11526  This modern flat is located in the new Carlott...   \n",
       "\n",
       "                                   neighborhood_overview  \\\n",
       "0      Prenzlauer Berg is no doubt one of the most my...   \n",
       "1                                                    NaN   \n",
       "2                                                    NaN   \n",
       "3      Kastanienalle, Oderberger Strasse, Hackescher ...   \n",
       "4      The neighborhood \"Prenzlauer Berg\" is centrall...   \n",
       "...                                                  ...   \n",
       "11522  Charlottenburg in the western part of Berlin, ...   \n",
       "11523  Charlottenburg in the western part of Berlin, ...   \n",
       "11524  Charlottenburg in the western part of Berlin, ...   \n",
       "11525  Charlottenburg in the western part of Berlin, ...   \n",
       "11526  Charlottenburg in the western part of Berlin, ...   \n",
       "\n",
       "                                             picture_url            host_name  \\\n",
       "0      https://a0.muscache.com/pictures/miso/Hosting-...               Marine   \n",
       "1      https://a0.muscache.com/pictures/caa048ba-e297...                Katja   \n",
       "2      https://a0.muscache.com/pictures/176e2964-5ead...                Guidi   \n",
       "3      https://a0.muscache.com/pictures/1135114/9db3c...              Stephan   \n",
       "4      https://a0.muscache.com/pictures/miso/Hosting-...            Christian   \n",
       "...                                                  ...                  ...   \n",
       "11522  https://a0.muscache.com/pictures/miso/Hosting-...  Carlotta Apartments   \n",
       "11523  https://a0.muscache.com/pictures/miso/Hosting-...  Carlotta Apartments   \n",
       "11524  https://a0.muscache.com/pictures/miso/Hosting-...  Carlotta Apartments   \n",
       "11525  https://a0.muscache.com/pictures/miso/Hosting-...  Carlotta Apartments   \n",
       "11526  https://a0.muscache.com/pictures/miso/Hosting-...  Carlotta Apartments   \n",
       "\n",
       "       host_since                                         host_about  \\\n",
       "0      14/11/2009  I'm french but I have been living in Berlin si...   \n",
       "1      08/11/2010           Designer who likes discovering the world   \n",
       "2      08/09/2010  Hi , I am Elena and I am looking forward to ho...   \n",
       "3      08/12/2010  Ich mag sch√∂ne Dinge und Design. Wenn es euch...   \n",
       "4      07/12/2010  Christian from Berlin\\n\\nHi, I¬¥m a 52 years o...   \n",
       "...           ...                                                ...   \n",
       "11522  24/10/2023                                                NaN   \n",
       "11523  24/10/2023                                                NaN   \n",
       "11524  24/10/2023                                                NaN   \n",
       "11525  24/10/2023                                                NaN   \n",
       "11526  24/10/2023                                                NaN   \n",
       "\n",
       "       host_response_time  ... review_scores_rating review_scores_accuracy  \\\n",
       "0          within an hour  ...                 4.93                   4.95   \n",
       "1      within a few hours  ...                 4.84                   4.88   \n",
       "2      within a few hours  ...                 4.70                   4.68   \n",
       "3            within a day  ...                 4.75                   4.63   \n",
       "4      within a few hours  ...                 4.95                   4.95   \n",
       "...                   ...  ...                  ...                    ...   \n",
       "11522      within an hour  ...                 5.00                   5.00   \n",
       "11523      within an hour  ...                 4.83                   5.00   \n",
       "11524      within an hour  ...                 5.00                   5.00   \n",
       "11525      within an hour  ...                 4.67                   4.67   \n",
       "11526      within an hour  ...                 4.97                   4.97   \n",
       "\n",
       "      review_scores_cleanliness  review_scores_checkin  \\\n",
       "0                          4.90                   4.97   \n",
       "1                          4.79                   4.81   \n",
       "2                          4.65                   4.82   \n",
       "3                          4.50                   4.94   \n",
       "4                          4.92                   4.95   \n",
       "...                         ...                    ...   \n",
       "11522                      4.91                   4.82   \n",
       "11523                      5.00                   4.83   \n",
       "11524                      5.00                   5.00   \n",
       "11525                      5.00                   5.00   \n",
       "11526                      5.00                   4.94   \n",
       "\n",
       "       review_scores_communication review_scores_location review_scores_value  \\\n",
       "0                             4.94                   4.82                4.76   \n",
       "1                             4.91                   4.87                4.73   \n",
       "2                             4.82                   4.94                4.47   \n",
       "3                             4.63                   4.88                4.40   \n",
       "4                             4.92                   4.84                4.77   \n",
       "...                            ...                    ...                 ...   \n",
       "11522                         5.00                   5.00                4.45   \n",
       "11523                         5.00                   4.83                4.67   \n",
       "11524                         5.00                   4.83                4.50   \n",
       "11525                         5.00                   4.33                4.33   \n",
       "11526                         4.97                   4.85                4.85   \n",
       "\n",
       "                                                 license instant_bookable  \\\n",
       "0                                      03/Z/RA/003544-18                f   \n",
       "1                                      03/Z/RA/007133-22                f   \n",
       "2                                      02/Z/AZ/011099-19                f   \n",
       "3                                      01/Z/RA/016060-23                f   \n",
       "4                                      03/Z/AZ/006799-21                f   \n",
       "...                                                  ...              ...   \n",
       "11522  Legal entity name and Legal form: Godebo GmbH ...                t   \n",
       "11523  Legal entity name and Legal form: Godebo GmbH ...                t   \n",
       "11524  Legal entity name and Legal form: Godebo GmbH ...                t   \n",
       "11525  Legal entity name and Legal form: Godebo GmbH ...                t   \n",
       "11526  Legal entity name and Legal form: Godebo GmbH ...                t   \n",
       "\n",
       "      reviews_per_month  \n",
       "0                  0.80  \n",
       "1                  0.43  \n",
       "2                  0.20  \n",
       "3                  0.10  \n",
       "4                  0.73  \n",
       "...                 ...  \n",
       "11522              1.21  \n",
       "11523              0.65  \n",
       "11524              1.84  \n",
       "11525              0.94  \n",
       "11526              3.69  \n",
       "\n",
       "[11527 rows x 50 columns]"
      ]
     },
     "execution_count": 3,
     "metadata": {},
     "output_type": "execute_result"
    }
   ],
   "source": [
    "df = pd.read_csv('Berlin.csv', encoding = \"MacRoman\")\n",
    "df"
   ]
  },
  {
   "cell_type": "markdown",
   "metadata": {},
   "source": [
    "**Visualizar valores nulos de cada columna**"
   ]
  },
  {
   "cell_type": "code",
   "execution_count": 12,
   "metadata": {},
   "outputs": [
    {
     "data": {
      "text/plain": [
       "id                                 0\n",
       "last_scraped                       0\n",
       "name                               0\n",
       "description                      624\n",
       "neighborhood_overview           5035\n",
       "picture_url                        0\n",
       "host_name                          9\n",
       "host_since                         9\n",
       "host_about                      5287\n",
       "host_response_time              4657\n",
       "host_response_rate              4657\n",
       "host_acceptance_rate            4173\n",
       "host_is_superhost                119\n",
       "host_listings_count                9\n",
       "host_total_listings_count          9\n",
       "host_verifications                 9\n",
       "host_has_profile_pic               9\n",
       "host_identity_verified             9\n",
       "neighbourhood                   5035\n",
       "property_type                      0\n",
       "room_type                          0\n",
       "accommodates                       0\n",
       "bathrooms                       4738\n",
       "bathrooms_text                     5\n",
       "bedrooms                        2036\n",
       "beds                            4742\n",
       "amenities                          0\n",
       "price                           4738\n",
       "minimum_nights                     0\n",
       "maximum_nights                     0\n",
       "calendar_updated               11527\n",
       "has_availability                 861\n",
       "availability_30                    0\n",
       "availability_60                    0\n",
       "availability_365                   0\n",
       "calendar_last_scraped              0\n",
       "number_of_reviews                  0\n",
       "number_of_reviews_ltm              0\n",
       "number_of_reviews_l30d             0\n",
       "last_review                     2084\n",
       "review_scores_rating            2084\n",
       "review_scores_accuracy          2086\n",
       "review_scores_cleanliness       2084\n",
       "review_scores_checkin           2087\n",
       "review_scores_communication     2085\n",
       "review_scores_location          2087\n",
       "review_scores_value             2089\n",
       "license                         4636\n",
       "instant_bookable                   0\n",
       "reviews_per_month               2084\n",
       "dtype: int64"
      ]
     },
     "execution_count": 12,
     "metadata": {},
     "output_type": "execute_result"
    }
   ],
   "source": [
    "nulos = df.isnull().sum()\n",
    "nulos\n"
   ]
  },
  {
   "cell_type": "markdown",
   "metadata": {},
   "source": [
    "**Realizamos la copia del dataframe**"
   ]
  },
  {
   "cell_type": "code",
   "execution_count": 13,
   "metadata": {},
   "outputs": [],
   "source": [
    "df2 = df.copy()"
   ]
  },
  {
   "cell_type": "markdown",
   "metadata": {},
   "source": [
    "**Sustituimos los valores nulos de la columna \"Description\"**"
   ]
  },
  {
   "cell_type": "code",
   "execution_count": null,
   "metadata": {},
   "outputs": [],
   "source": [
    "# Se usará bfill para rellenar los valores nulos de la columna Description ya que son valores de texto\n",
    "df2[\"description\"] = df2[\"description\"].fillna(method = \"bfill\")\n",
    "\n",
    "# Corroboramos valores nulos\n",
    "df2.isnull().sum()"
   ]
  },
  {
   "cell_type": "code",
   "execution_count": 16,
   "metadata": {},
   "outputs": [],
   "source": [
    "# Convertimos dataframe a csv\n",
    "df2.to_csv(\"Columna_description.csv\")"
   ]
  },
  {
   "cell_type": "markdown",
   "metadata": {},
   "source": [
    "**Sustituimos los valores nulos de la columna \"neighborhood_overview\"**"
   ]
  },
  {
   "cell_type": "code",
   "execution_count": 17,
   "metadata": {},
   "outputs": [
    {
     "name": "stderr",
     "output_type": "stream",
     "text": [
      "C:\\Users\\DELL\\AppData\\Local\\Temp\\ipykernel_2284\\3967617117.py:2: FutureWarning: Series.fillna with 'method' is deprecated and will raise in a future version. Use obj.ffill() or obj.bfill() instead.\n",
      "  df2[\"neighborhood_overview\"] = df2[\"neighborhood_overview\"].fillna(method = \"ffill\")\n"
     ]
    },
    {
     "data": {
      "text/plain": [
       "id                                 0\n",
       "last_scraped                       0\n",
       "name                               0\n",
       "description                        0\n",
       "neighborhood_overview              0\n",
       "picture_url                        0\n",
       "host_name                          9\n",
       "host_since                         9\n",
       "host_about                      5287\n",
       "host_response_time              4657\n",
       "host_response_rate              4657\n",
       "host_acceptance_rate            4173\n",
       "host_is_superhost                119\n",
       "host_listings_count                9\n",
       "host_total_listings_count          9\n",
       "host_verifications                 9\n",
       "host_has_profile_pic               9\n",
       "host_identity_verified             9\n",
       "neighbourhood                   5035\n",
       "property_type                      0\n",
       "room_type                          0\n",
       "accommodates                       0\n",
       "bathrooms                       4738\n",
       "bathrooms_text                     5\n",
       "bedrooms                        2036\n",
       "beds                            4742\n",
       "amenities                          0\n",
       "price                           4738\n",
       "minimum_nights                     0\n",
       "maximum_nights                     0\n",
       "calendar_updated               11527\n",
       "has_availability                 861\n",
       "availability_30                    0\n",
       "availability_60                    0\n",
       "availability_365                   0\n",
       "calendar_last_scraped              0\n",
       "number_of_reviews                  0\n",
       "number_of_reviews_ltm              0\n",
       "number_of_reviews_l30d             0\n",
       "last_review                     2084\n",
       "review_scores_rating            2084\n",
       "review_scores_accuracy          2086\n",
       "review_scores_cleanliness       2084\n",
       "review_scores_checkin           2087\n",
       "review_scores_communication     2085\n",
       "review_scores_location          2087\n",
       "review_scores_value             2089\n",
       "license                         4636\n",
       "instant_bookable                   0\n",
       "reviews_per_month               2084\n",
       "dtype: int64"
      ]
     },
     "execution_count": 17,
     "metadata": {},
     "output_type": "execute_result"
    }
   ],
   "source": [
    "# se usará el método ffill para rellenar los datos faltantes de la columna neighborhood_overview\n",
    "df2[\"neighborhood_overview\"] = df2[\"neighborhood_overview\"].fillna(method = \"ffill\")\n",
    "\n",
    "# Corroboramos valores nulos\n",
    "df2.isnull().sum()"
   ]
  },
  {
   "cell_type": "code",
   "execution_count": 18,
   "metadata": {},
   "outputs": [],
   "source": [
    "# Convertimos dataframe a csv\n",
    "df2.to_csv(\"Columna_neighborhood_overview.csv\")"
   ]
  },
  {
   "cell_type": "markdown",
   "metadata": {},
   "source": [
    "**Sustitucion de valores nulos de la columna \"host_name\"**"
   ]
  },
  {
   "cell_type": "code",
   "execution_count": null,
   "metadata": {},
   "outputs": [],
   "source": [
    "# Se usará el método bfill para rellenar lso datos faltantes de la columna host_name\n",
    "df2[\"host_name\"] = df2[\"host_name\"].fillna(method = \"bfill\")\n",
    "\n",
    "# Corroboramos valores nulos\n",
    "df2.isnull().sum()"
   ]
  },
  {
   "cell_type": "code",
   "execution_count": 22,
   "metadata": {},
   "outputs": [],
   "source": [
    "# Convertir dataframe a csv\n",
    "df2.to_csv(\"Columna_host_name.csv\")"
   ]
  },
  {
   "cell_type": "markdown",
   "metadata": {},
   "source": [
    "**Sustituir valores nulos de la columna \"host_since\"**"
   ]
  },
  {
   "cell_type": "code",
   "execution_count": null,
   "metadata": {},
   "outputs": [],
   "source": [
    "# Se usará un valor fijo para sustituir los valores nulos de la columna host_since\n",
    "df2[\"host_since\"] = df2[\"host_since\"].fillna(\"14/11/2009\")\n",
    "\n",
    "# corroborar valores nulos\n",
    "df2.isnull().sum()"
   ]
  },
  {
   "cell_type": "code",
   "execution_count": 24,
   "metadata": {},
   "outputs": [],
   "source": [
    "# Convertir dataframe a csv\n",
    "df2.to_csv(\"Columna_host_since.csv\")"
   ]
  },
  {
   "cell_type": "markdown",
   "metadata": {},
   "source": [
    "**Sustituir valores nulos de la columna \"host_about\"**"
   ]
  },
  {
   "cell_type": "code",
   "execution_count": null,
   "metadata": {},
   "outputs": [],
   "source": [
    "# Se usará el metodo ffill para sustituir los valores nulos de la columna host_about\n",
    "df2[\"host_about\"] = df2[\"host_about\"].fillna(method = \"ffill\")\n",
    "\n",
    "#  Corroboramos valores nulos\n",
    "df2.isnull().sum()"
   ]
  },
  {
   "cell_type": "code",
   "execution_count": 26,
   "metadata": {},
   "outputs": [],
   "source": [
    "# Convertimos dataframe a csv\n",
    "df2.to_csv(\"Columna_host_about.csv\")"
   ]
  },
  {
   "cell_type": "markdown",
   "metadata": {},
   "source": [
    "**Sustitucion de valores nulos de la columna \"host_response_time\"**"
   ]
  },
  {
   "cell_type": "code",
   "execution_count": null,
   "metadata": {},
   "outputs": [],
   "source": [
    "# Se ocupará un valor fijo para sustituir los valores faltantes\n",
    "df2[\"host_response_time\"] = df2[\"host_response_time\"].fillna(\"within a day\")\n",
    "\n",
    "# Corroboramos valores nulos\n",
    "df2.isnull().sum()"
   ]
  },
  {
   "cell_type": "code",
   "execution_count": 28,
   "metadata": {},
   "outputs": [],
   "source": [
    "# Convertir dataframe a csv\n",
    "df2.to_csv(\"Columna_host_response_time.csv\")"
   ]
  },
  {
   "cell_type": "markdown",
   "metadata": {},
   "source": [
    "**Sustitucion de valores nulos de la columna \"host_response_rate\"**"
   ]
  },
  {
   "cell_type": "code",
   "execution_count": null,
   "metadata": {},
   "outputs": [],
   "source": [
    "# Se sustituira usando el método bfill para sustituir los valores nulos de la columna\n",
    "df2[\"host_response_rate\"] = df2[\"host_response_rate\"].fillna(method = \"bfill\")\n",
    "\n",
    "# Corroboramos valores nulos\n",
    "df2.isnull().sum()"
   ]
  },
  {
   "cell_type": "code",
   "execution_count": 35,
   "metadata": {},
   "outputs": [],
   "source": [
    "# Convertirmos dataframe a csv\n",
    "df2.to_csv(\"Columna_host_response_rate.csv\")"
   ]
  },
  {
   "cell_type": "markdown",
   "metadata": {},
   "source": [
    "**Sustitucion de valores nulos de la columna \"host_acceptance_rate\"**"
   ]
  },
  {
   "cell_type": "code",
   "execution_count": 36,
   "metadata": {},
   "outputs": [
    {
     "name": "stderr",
     "output_type": "stream",
     "text": [
      "C:\\Users\\DELL\\AppData\\Local\\Temp\\ipykernel_2284\\1220829796.py:2: FutureWarning: Series.fillna with 'method' is deprecated and will raise in a future version. Use obj.ffill() or obj.bfill() instead.\n",
      "  df2[\"host_acceptance_rate\"] = df2[\"host_acceptance_rate\"].fillna(method = \"ffill\")\n"
     ]
    },
    {
     "data": {
      "text/plain": [
       "id                                 0\n",
       "last_scraped                       0\n",
       "name                               0\n",
       "description                        0\n",
       "neighborhood_overview              0\n",
       "picture_url                        0\n",
       "host_name                          0\n",
       "host_since                         0\n",
       "host_about                         0\n",
       "host_response_time                 0\n",
       "host_response_rate                 0\n",
       "host_acceptance_rate               0\n",
       "host_is_superhost                119\n",
       "host_listings_count                9\n",
       "host_total_listings_count          9\n",
       "host_verifications                 9\n",
       "host_has_profile_pic               9\n",
       "host_identity_verified             9\n",
       "neighbourhood                   5035\n",
       "property_type                      0\n",
       "room_type                          0\n",
       "accommodates                       0\n",
       "bathrooms                       4738\n",
       "bathrooms_text                     5\n",
       "bedrooms                        2036\n",
       "beds                            4742\n",
       "amenities                          0\n",
       "price                           4738\n",
       "minimum_nights                     0\n",
       "maximum_nights                     0\n",
       "calendar_updated               11527\n",
       "has_availability                 861\n",
       "availability_30                    0\n",
       "availability_60                    0\n",
       "availability_365                   0\n",
       "calendar_last_scraped              0\n",
       "number_of_reviews                  0\n",
       "number_of_reviews_ltm              0\n",
       "number_of_reviews_l30d             0\n",
       "last_review                     2084\n",
       "review_scores_rating            2084\n",
       "review_scores_accuracy          2086\n",
       "review_scores_cleanliness       2084\n",
       "review_scores_checkin           2087\n",
       "review_scores_communication     2085\n",
       "review_scores_location          2087\n",
       "review_scores_value             2089\n",
       "license                         4636\n",
       "instant_bookable                   0\n",
       "reviews_per_month               2084\n",
       "dtype: int64"
      ]
     },
     "execution_count": 36,
     "metadata": {},
     "output_type": "execute_result"
    }
   ],
   "source": [
    "# Se usará el método ffill para sustituir los valores faltantes de la columna \n",
    "df2[\"host_acceptance_rate\"] = df2[\"host_acceptance_rate\"].fillna(method = \"ffill\")\n",
    "\n",
    "# Corroboramos valores faltantes\n",
    "df2.isnull().sum()"
   ]
  },
  {
   "cell_type": "code",
   "execution_count": 37,
   "metadata": {},
   "outputs": [],
   "source": [
    "# Convertimos dataframe a csv\n",
    "df2.to_csv(\"Columna_host_acceptance_rate.csv\")"
   ]
  },
  {
   "cell_type": "markdown",
   "metadata": {},
   "source": [
    "**Sustitucion de valores nulos de la columna \"host_is_superhost\"**"
   ]
  },
  {
   "cell_type": "code",
   "execution_count": null,
   "metadata": {},
   "outputs": [
    {
     "data": {
      "text/plain": [
       "id                                 0\n",
       "last_scraped                       0\n",
       "name                               0\n",
       "description                        0\n",
       "neighborhood_overview              0\n",
       "picture_url                        0\n",
       "host_name                          0\n",
       "host_since                         0\n",
       "host_about                         0\n",
       "host_response_time                 0\n",
       "host_response_rate                 0\n",
       "host_acceptance_rate               0\n",
       "host_is_superhost                  0\n",
       "host_listings_count                9\n",
       "host_total_listings_count          9\n",
       "host_verifications                 9\n",
       "host_has_profile_pic               9\n",
       "host_identity_verified             9\n",
       "neighbourhood                   5035\n",
       "property_type                      0\n",
       "room_type                          0\n",
       "accommodates                       0\n",
       "bathrooms                       4738\n",
       "bathrooms_text                     5\n",
       "bedrooms                        2036\n",
       "beds                            4742\n",
       "amenities                          0\n",
       "price                           4738\n",
       "minimum_nights                     0\n",
       "maximum_nights                     0\n",
       "calendar_updated               11527\n",
       "has_availability                 861\n",
       "availability_30                    0\n",
       "availability_60                    0\n",
       "availability_365                   0\n",
       "calendar_last_scraped              0\n",
       "number_of_reviews                  0\n",
       "number_of_reviews_ltm              0\n",
       "number_of_reviews_l30d             0\n",
       "last_review                     2084\n",
       "review_scores_rating            2084\n",
       "review_scores_accuracy          2086\n",
       "review_scores_cleanliness       2084\n",
       "review_scores_checkin           2087\n",
       "review_scores_communication     2085\n",
       "review_scores_location          2087\n",
       "review_scores_value             2089\n",
       "license                         4636\n",
       "instant_bookable                   0\n",
       "reviews_per_month               2084\n",
       "dtype: int64"
      ]
     },
     "execution_count": 39,
     "metadata": {},
     "output_type": "execute_result"
    }
   ],
   "source": [
    "# Se usara un valor en específico para sustituir los valores faltantes\n",
    "df2[\"host_is_superhost\"] = df2[\"host_is_superhost\"].fillna(\"f\")\n",
    "\n",
    "# Corroboramos valores nulos\n",
    "df2.isnull().sum()"
   ]
  },
  {
   "cell_type": "code",
   "execution_count": 40,
   "metadata": {},
   "outputs": [],
   "source": [
    "# Convertirmos dataframe a csv\n",
    "df2.to_csv(\"Columna_host_is_superhost.csv\")"
   ]
  },
  {
   "cell_type": "markdown",
   "metadata": {},
   "source": [
    "**Sustitucion de valores nulos de la columna \"host_listings_count\"**"
   ]
  },
  {
   "cell_type": "code",
   "execution_count": null,
   "metadata": {},
   "outputs": [],
   "source": [
    "# Se usará la media aritmética para sustituir los valores faltantes de la columna ya que es numérica\n",
    "df2[\"host_listings_count\"] = df2[\"host_listings_count\"].fillna(round(df2[\"host_listings_count\"].mean(),1))\n",
    "\n",
    "# Corroboramos valores nulos\n",
    "df2.isnull().sum()\n"
   ]
  },
  {
   "cell_type": "code",
   "execution_count": 45,
   "metadata": {},
   "outputs": [],
   "source": [
    "# Convertimos dataframe a csv\n",
    "df2.to_csv(\"Columna_host_listings_count.csv\")"
   ]
  },
  {
   "cell_type": "markdown",
   "metadata": {},
   "source": [
    "**Sustitucion de valores nulos de la columna \"host_total_listings_count\"**"
   ]
  },
  {
   "cell_type": "code",
   "execution_count": 46,
   "metadata": {},
   "outputs": [],
   "source": [
    "# Se usará la mediana para sustituir los valores faltantes de la columna ya que son datos numéricos\n",
    "df2[\"host_total_listings_count\"] = df2[\"host_total_listings_count\"].fillna(round(df2[\"host_total_listings_count\"].median(),1))\n",
    "\n",
    "# Corroboramos valores nulos\n",
    "df2.isnull().sum()"
   ]
  },
  {
   "cell_type": "code",
   "execution_count": 48,
   "metadata": {},
   "outputs": [],
   "source": [
    "# Convertimos dataframe a csv\n",
    "df2.to_csv(\"Columna_host_total_listings_count.csv\")"
   ]
  },
  {
   "cell_type": "markdown",
   "metadata": {},
   "source": [
    "**Sustitucion de valores nulos de la columna \"host_verifications\"**"
   ]
  },
  {
   "cell_type": "code",
   "execution_count": 50,
   "metadata": {},
   "outputs": [],
   "source": [
    "# Se usará un valor en específico para sustituir los valores faltantes\n",
    "df2[\"host_verifications\"] = df2[\"host_verifications\"].fillna(\"['email', 'phone']\")\n",
    "\n",
    "# Corroboramos valores nulos\n",
    "df2.isnull().sum()"
   ]
  },
  {
   "cell_type": "code",
   "execution_count": 52,
   "metadata": {},
   "outputs": [],
   "source": [
    "# Convertir dataframe a csv\n",
    "df2.to_csv(\"Columna_host_verifications.csv\")"
   ]
  },
  {
   "cell_type": "markdown",
   "metadata": {},
   "source": [
    "**Sustitucion de valores nulos de la columna \"host_has_profile_pic\"**"
   ]
  },
  {
   "cell_type": "code",
   "execution_count": null,
   "metadata": {},
   "outputs": [],
   "source": [
    "# Se usará un valor en específico para sustituir los valores faltantes\n",
    "df2[\"host_has_profile_pic\"] = df2[\"host_has_profile_pic\"].fillna(\"t\")\n",
    "\n",
    "# Corroboramos valores nulos\n",
    "df2.isnull().sum()"
   ]
  },
  {
   "cell_type": "code",
   "execution_count": 56,
   "metadata": {},
   "outputs": [],
   "source": [
    "# Convertimos dataframe a csv\n",
    "df2.to_csv(\"Colunma_host_has_profile_pic.csv\")"
   ]
  },
  {
   "cell_type": "markdown",
   "metadata": {},
   "source": [
    "**Sustitucion de valores nulos de la columna \"host_identity_verified\"**"
   ]
  },
  {
   "cell_type": "code",
   "execution_count": 57,
   "metadata": {},
   "outputs": [],
   "source": [
    "# Se usará un valor en específico para sustituir los valores faltantes de la columna\n",
    "df2[\"host_identity_verified\"] = df2[\"host_identity_verified\"].fillna(\"t\")\n",
    "\n",
    "# Corroboramos valores nulos\n",
    "df2.isnull().sum()"
   ]
  },
  {
   "cell_type": "code",
   "execution_count": 59,
   "metadata": {},
   "outputs": [],
   "source": [
    "# Convertimos dataframe a csv\n",
    "df2.to_csv(\"Columna_host_identity_verified.csv\")"
   ]
  },
  {
   "cell_type": "markdown",
   "metadata": {},
   "source": [
    "**Sustitucion de valore nulos de la columna \"neighbourhood\"**"
   ]
  },
  {
   "cell_type": "code",
   "execution_count": null,
   "metadata": {},
   "outputs": [
    {
     "name": "stderr",
     "output_type": "stream",
     "text": [
      "C:\\Users\\DELL\\AppData\\Local\\Temp\\ipykernel_2284\\3316336855.py:2: FutureWarning: Series.fillna with 'method' is deprecated and will raise in a future version. Use obj.ffill() or obj.bfill() instead.\n",
      "  df2[\"neighbourhood\"] = df2[\"neighbourhood\"].fillna(method = \"ffill\")\n"
     ]
    }
   ],
   "source": [
    "# Se usará el método ffill para sustituir los valores faltantes de la columna\n",
    "df2[\"neighbourhood\"] = df2[\"neighbourhood\"].fillna(method = \"ffill\")\n",
    "\n",
    "# Corroboramos valores nulos\n",
    "df2.isnull().sum()"
   ]
  },
  {
   "cell_type": "code",
   "execution_count": 63,
   "metadata": {},
   "outputs": [],
   "source": [
    "# Convertimos dataframe a csv\n",
    "df2.to_csv(\"Columna_neighbourhood.csv\")"
   ]
  },
  {
   "cell_type": "markdown",
   "metadata": {},
   "source": [
    "**Sustitucion de valores nulos de la columna \"bathrooms\"**"
   ]
  },
  {
   "cell_type": "code",
   "execution_count": null,
   "metadata": {},
   "outputs": [],
   "source": [
    "# Se usara la media aritmetica para sustituir los valores faltantes de la columna\n",
    "df2[\"bathrooms\"] = df2[\"bathrooms\"].fillna(round(df2[\"bathrooms\"].mean(),1))\n",
    "\n",
    "# Corroboramos valores nulos\n",
    "df2.isnull().sum()"
   ]
  },
  {
   "cell_type": "code",
   "execution_count": 67,
   "metadata": {},
   "outputs": [],
   "source": [
    "# Convertimos dataframe a csv\n",
    "df2.to_csv(\"Columna_bathrooms.csv\")"
   ]
  },
  {
   "cell_type": "markdown",
   "metadata": {},
   "source": [
    "**Sustitucion de valores nulos de la columna \"bathrooms_text\"**"
   ]
  },
  {
   "cell_type": "code",
   "execution_count": 68,
   "metadata": {},
   "outputs": [],
   "source": [
    "# Se usara un valor en específico para sustituir los valores faltantes de la columna\n",
    "df2[\"bathrooms_text\"] = df2[\"bathrooms_text\"].fillna(\"2 baths\")\n",
    "\n",
    "# Corroboramos valores nulos\n",
    "df2.isnull().sum()"
   ]
  },
  {
   "cell_type": "code",
   "execution_count": 70,
   "metadata": {},
   "outputs": [],
   "source": [
    "# Convertimos dataframe a csv\n",
    "df2.to_csv(\"Columna_bathrooms_text.csv\")"
   ]
  },
  {
   "cell_type": "code",
   "execution_count": null,
   "metadata": {},
   "outputs": [],
   "source": [
    "# Se usara la mediana para sustituir los valores faltantes de la columna\n",
    "df2[\"bedrooms\"] = df2[\"bedrooms\"].fillna(round(df2[\"bedrooms\"].median(),1))\n",
    "\n",
    "# Corroboramos valores nulos\n",
    "df2.isnull().sum()"
   ]
  },
  {
   "cell_type": "code",
   "execution_count": 74,
   "metadata": {},
   "outputs": [],
   "source": [
    "# Convertimos dataframe a csv\n",
    "df2.to_csv(\"Columna_bedrooms.csv\")"
   ]
  },
  {
   "cell_type": "markdown",
   "metadata": {},
   "source": [
    "**Sustitucion de valores nulos de la columna \"beds\"**"
   ]
  },
  {
   "cell_type": "code",
   "execution_count": null,
   "metadata": {},
   "outputs": [],
   "source": [
    "# Se usará la media aritmética para sustituir los valores faltantes de la columna\n",
    "df2[\"beds\"] = df2[\"beds\"].fillna(round(df2[\"beds\"].mean(),1))\n",
    "\n",
    "# Corroboramos valores nulos\n",
    "df2.isnull().sum()"
   ]
  },
  {
   "cell_type": "code",
   "execution_count": 78,
   "metadata": {},
   "outputs": [],
   "source": [
    "# Convertimos dataframe a csv\n",
    "df2.to_csv(\"Columna_beds.csv\")"
   ]
  },
  {
   "cell_type": "markdown",
   "metadata": {},
   "source": [
    "**Sustitucion de valores nulos de la columna \"price\"**"
   ]
  },
  {
   "cell_type": "code",
   "execution_count": 81,
   "metadata": {},
   "outputs": [
    {
     "name": "stderr",
     "output_type": "stream",
     "text": [
      "C:\\Users\\DELL\\AppData\\Local\\Temp\\ipykernel_2284\\3247075504.py:2: FutureWarning: Series.fillna with 'method' is deprecated and will raise in a future version. Use obj.ffill() or obj.bfill() instead.\n",
      "  df2[\"price\"] = df2[\"price\"].fillna(method = \"bfill\")\n"
     ]
    }
   ],
   "source": [
    "# Se usará el método bfill para sustituir los valores faltantes de la columna\n",
    "df2[\"price\"] = df2[\"price\"].fillna(method = \"bfill\")\n",
    "\n",
    "# Corroboramos valores nulos\n",
    "df2.isnull().sum()"
   ]
  },
  {
   "cell_type": "code",
   "execution_count": 83,
   "metadata": {},
   "outputs": [],
   "source": [
    "# convertimos dataframe a csv\n",
    "df2.to_csv(\"Columna_price.csv\")"
   ]
  },
  {
   "cell_type": "markdown",
   "metadata": {},
   "source": [
    "**Sustitucion de valores nulos de la columna \"calendar_updated\"**"
   ]
  },
  {
   "cell_type": "code",
   "execution_count": 89,
   "metadata": {},
   "outputs": [],
   "source": [
    "# Se usará un valor en específico para sustituir los valores faltantes de la columna\n",
    "df2[\"calendar_updated\"] = pd.to_datetime(df2[\"calendar_updated\"], errors = \"coerce\")\n",
    "df2[\"calendar_updated\"] = df2[\"calendar_updated\"].fillna(\"2019-05-20\")\n",
    "\n",
    "# Corroboramos valores nulos\n",
    "df2.isnull().sum()"
   ]
  },
  {
   "cell_type": "code",
   "execution_count": 91,
   "metadata": {},
   "outputs": [],
   "source": [
    "# Convertimos dataframe a csv\n",
    "df2.to_csv(\"Columna_calendar_updated.csv\")"
   ]
  },
  {
   "cell_type": "markdown",
   "metadata": {},
   "source": [
    "**Sustitucion de valores nulos en la columna \"has_availability\"**"
   ]
  },
  {
   "cell_type": "code",
   "execution_count": 93,
   "metadata": {},
   "outputs": [
    {
     "name": "stderr",
     "output_type": "stream",
     "text": [
      "C:\\Users\\DELL\\AppData\\Local\\Temp\\ipykernel_2284\\923724780.py:2: FutureWarning: Series.fillna with 'method' is deprecated and will raise in a future version. Use obj.ffill() or obj.bfill() instead.\n",
      "  df2[\"has_availability\"] = df[\"has_availability\"].fillna(method = \"ffill\")\n"
     ]
    }
   ],
   "source": [
    "# Se usará el método ffill para sustituir los valores faltantes de la columna\n",
    "df2[\"has_availability\"] = df[\"has_availability\"].fillna(method = \"ffill\")\n",
    "\n",
    "# Corroboramos valores nulos\n",
    "df2.isnull().sum()"
   ]
  },
  {
   "cell_type": "code",
   "execution_count": 95,
   "metadata": {},
   "outputs": [],
   "source": [
    "# Convertimos dataframe a csv\n",
    "df2.to_csv(\"Columna_has_availability.csv\")"
   ]
  },
  {
   "cell_type": "markdown",
   "metadata": {},
   "source": [
    "**Sustitucion de valores nulos en la columna \"last_review\"**"
   ]
  },
  {
   "cell_type": "code",
   "execution_count": null,
   "metadata": {},
   "outputs": [],
   "source": [
    "# Se sustituiran los valores nulos por un valor en específico\n",
    "df2[\"last_review\"] = df2[\"last_review\"].fillna(\"01/01/2024\")\n",
    "\n",
    "# Corroboramos valores nulos\n",
    "df2.isnull().sum()\n"
   ]
  },
  {
   "cell_type": "code",
   "execution_count": 99,
   "metadata": {},
   "outputs": [],
   "source": [
    "# Convertimos dataframe a csv\n",
    "df2.to_csv(\"Columna_last_review.csv\")"
   ]
  },
  {
   "cell_type": "markdown",
   "metadata": {},
   "source": [
    "**Sustitucion de valores nulos de la columna \"review_scores_rating\"**"
   ]
  },
  {
   "cell_type": "code",
   "execution_count": 100,
   "metadata": {},
   "outputs": [],
   "source": [
    "# Se usará la mediana para sustituir los valores faltantes de la columna\n",
    "df2[\"review_scores_rating\"] = df2[\"review_scores_rating\"].fillna(round(df2[\"review_scores_rating\"].median(),1))\n",
    "\n",
    "# Corroboramos valores nulos\n",
    "df2.isnull().sum()"
   ]
  },
  {
   "cell_type": "code",
   "execution_count": 102,
   "metadata": {},
   "outputs": [],
   "source": [
    "# Convertimos dataframe a csv\n",
    "df2.to_csv(\"Columna_review_scores_rating.csv\")"
   ]
  },
  {
   "cell_type": "markdown",
   "metadata": {},
   "source": [
    "**Sustitucion de valores nulos de la columna \"review_scores_accuracy\"**"
   ]
  },
  {
   "cell_type": "code",
   "execution_count": 103,
   "metadata": {},
   "outputs": [],
   "source": [
    "# Se usará la media aritmetica para susituir los valores faltantes\n",
    "df2[\"review_scores_accuracy\"] = df2[\"review_scores_accuracy\"].fillna(round(df2[\"review_scores_accuracy\"].mean(),1))\n",
    "\n",
    "# Corroboramos valores nulos\n",
    "df2.isnull().sum() "
   ]
  },
  {
   "cell_type": "code",
   "execution_count": 105,
   "metadata": {},
   "outputs": [],
   "source": [
    "# Convertimos dataframe a csv\n",
    "df2.to_csv(\"Columna_review_scores_accuracy.csv\")"
   ]
  },
  {
   "cell_type": "markdown",
   "metadata": {},
   "source": [
    "**Sustitucion de valores nulos de la columna \"review_scores_cleanliness\"**"
   ]
  },
  {
   "cell_type": "code",
   "execution_count": 106,
   "metadata": {},
   "outputs": [],
   "source": [
    "# Se usará un valor fijo para sustituir los valores flatantes de la columna\n",
    "df2[\"review_scores_cleanliness\"] = df2[\"review_scores_cleanliness\"].fillna(4.9)\n",
    "\n",
    "# Corroboramos valores nulos\n",
    "df2.isnull().sum() "
   ]
  },
  {
   "cell_type": "code",
   "execution_count": 108,
   "metadata": {},
   "outputs": [],
   "source": [
    "# Convertimos dataframe a csv\n",
    "df2.to_csv(\"Columna_review_scores_cleanliness.csv\")"
   ]
  },
  {
   "cell_type": "markdown",
   "metadata": {},
   "source": [
    "**Sustitucion de valores nulos de la columna \"review_scores_checkin\"**"
   ]
  },
  {
   "cell_type": "code",
   "execution_count": 109,
   "metadata": {},
   "outputs": [],
   "source": [
    "# Se usará la mediana para susituir los vcalores faltantes de la columna\n",
    "df2[\"review_scores_checkin\"] = df2[\"review_scores_checkin\"].fillna(round(df2[\"review_scores_checkin\"].median(),1))\n",
    "\n",
    "# Corroboramos valores nulos\n",
    "df2.isnull().sum() "
   ]
  },
  {
   "cell_type": "code",
   "execution_count": 111,
   "metadata": {},
   "outputs": [],
   "source": [
    "# Convertimos dataframe a csv\n",
    "df2.to_csv(\"Columna_review_scores_checkin.csv\")"
   ]
  },
  {
   "cell_type": "markdown",
   "metadata": {},
   "source": [
    "**Sustitucion de valores nulos de la columna \"review_scores_communication\"**"
   ]
  },
  {
   "cell_type": "code",
   "execution_count": 112,
   "metadata": {},
   "outputs": [],
   "source": [
    "# Se usará la media arimética para sustituir los valores faltantes de la columna\n",
    "df2[\"review_scores_communication\"] = df2[\"review_scores_communication\"].fillna(round(df2[\"review_scores_communication\"].mean(),1))\n",
    "\n",
    "# Corroboramos valores nulos\n",
    "df2.isnull().sum()"
   ]
  },
  {
   "cell_type": "code",
   "execution_count": 114,
   "metadata": {},
   "outputs": [],
   "source": [
    "# Convertimos dataframe a csv\n",
    "df2.to_csv(\"Columna_review_scores_communication.csv\")"
   ]
  },
  {
   "cell_type": "markdown",
   "metadata": {},
   "source": [
    "**Sustitucion de valores nulos de la columna \"review_scores_location\"**"
   ]
  },
  {
   "cell_type": "code",
   "execution_count": 115,
   "metadata": {},
   "outputs": [],
   "source": [
    "# Se usará un valor en específico para sustituir los valores faltantes\n",
    "df2[\"review_scores_location\"] = df2[\"review_scores_location\"].fillna(4.8)\n",
    "\n",
    "# Corroboramos valores nulos\n",
    "df2.isnull().sum()"
   ]
  },
  {
   "cell_type": "code",
   "execution_count": 117,
   "metadata": {},
   "outputs": [],
   "source": [
    "# Convertimos dataframe a csv\n",
    "df2.to_csv(\"Columna_review_scores_location.csv\")"
   ]
  },
  {
   "cell_type": "markdown",
   "metadata": {},
   "source": [
    "**Sustitucion de valore nulos de la columna \"review_scores_value\"**"
   ]
  },
  {
   "cell_type": "code",
   "execution_count": 118,
   "metadata": {},
   "outputs": [],
   "source": [
    "# Se usará un valor en específico para sustituir los datos faltantes de la columna\n",
    "df2[\"review_scores_value\"] = df2[\"review_scores_value\"].fillna(4.9)\n",
    "\n",
    "# Corroboramos valores nulos\n",
    "df2.isnull().sum()"
   ]
  },
  {
   "cell_type": "code",
   "execution_count": 120,
   "metadata": {},
   "outputs": [],
   "source": [
    "# Convertimos dataframe a csv\n",
    "df2.to_csv(\"Columna_review_scores_value.csv\")"
   ]
  },
  {
   "cell_type": "markdown",
   "metadata": {},
   "source": [
    "**Sustitucion de valores nulos de la columna \"license\"**"
   ]
  },
  {
   "cell_type": "code",
   "execution_count": null,
   "metadata": {},
   "outputs": [],
   "source": [
    "# Se usará el método bfill para reemplazar los valores faltantes\n",
    "df2[\"license\"] = df2[\"license\"].fillna(method = \"bfill\")\n",
    "\n",
    "# Corroboramos valores nulos\n",
    "df2.isnull().sum()"
   ]
  },
  {
   "cell_type": "code",
   "execution_count": 123,
   "metadata": {},
   "outputs": [],
   "source": [
    "# Convertimos dataframe a csv\n",
    "df2.to_csv(\"Columna_license.csv\")"
   ]
  },
  {
   "cell_type": "markdown",
   "metadata": {},
   "source": [
    "**Sustitucion de valores nulos de la columna \"reviews_per_month\"**"
   ]
  },
  {
   "cell_type": "code",
   "execution_count": 126,
   "metadata": {},
   "outputs": [
    {
     "data": {
      "text/plain": [
       "id                             0\n",
       "last_scraped                   0\n",
       "name                           0\n",
       "description                    0\n",
       "neighborhood_overview          0\n",
       "picture_url                    0\n",
       "host_name                      0\n",
       "host_since                     0\n",
       "host_about                     0\n",
       "host_response_time             0\n",
       "host_response_rate             0\n",
       "host_acceptance_rate           0\n",
       "host_is_superhost              0\n",
       "host_listings_count            0\n",
       "host_total_listings_count      0\n",
       "host_verifications             0\n",
       "host_has_profile_pic           0\n",
       "host_identity_verified         0\n",
       "neighbourhood                  0\n",
       "property_type                  0\n",
       "room_type                      0\n",
       "accommodates                   0\n",
       "bathrooms                      0\n",
       "bathrooms_text                 0\n",
       "bedrooms                       0\n",
       "beds                           0\n",
       "amenities                      0\n",
       "price                          0\n",
       "minimum_nights                 0\n",
       "maximum_nights                 0\n",
       "calendar_updated               0\n",
       "has_availability               0\n",
       "availability_30                0\n",
       "availability_60                0\n",
       "availability_365               0\n",
       "calendar_last_scraped          0\n",
       "number_of_reviews              0\n",
       "number_of_reviews_ltm          0\n",
       "number_of_reviews_l30d         0\n",
       "last_review                    0\n",
       "review_scores_rating           0\n",
       "review_scores_accuracy         0\n",
       "review_scores_cleanliness      0\n",
       "review_scores_checkin          0\n",
       "review_scores_communication    0\n",
       "review_scores_location         0\n",
       "review_scores_value            0\n",
       "license                        0\n",
       "instant_bookable               0\n",
       "reviews_per_month              0\n",
       "dtype: int64"
      ]
     },
     "execution_count": 126,
     "metadata": {},
     "output_type": "execute_result"
    }
   ],
   "source": [
    "# Se usará la mediana para reemplazar los valores faltantes\n",
    "df2[\"reviews_per_month\"] = df2[\"reviews_per_month\"].fillna(round(df2[\"reviews_per_month\"].median(),1))\n",
    "\n",
    "# Corroboramos valores nulos\n",
    "df2.isnull().sum()"
   ]
  },
  {
   "cell_type": "code",
   "execution_count": 127,
   "metadata": {},
   "outputs": [],
   "source": [
    "# Convertimos dataframe a csv\n",
    "df2.to_csv(\"Columna_reviews_per_month.csv\")"
   ]
  }
 ],
 "metadata": {
  "kernelspec": {
   "display_name": "Python 3",
   "language": "python",
   "name": "python3"
  },
  "language_info": {
   "codemirror_mode": {
    "name": "ipython",
    "version": 3
   },
   "file_extension": ".py",
   "mimetype": "text/x-python",
   "name": "python",
   "nbconvert_exporter": "python",
   "pygments_lexer": "ipython3",
   "version": "3.11.4"
  }
 },
 "nbformat": 4,
 "nbformat_minor": 2
}
